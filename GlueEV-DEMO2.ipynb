{
 "cells": [
  {
   "cell_type": "markdown",
   "id": "empty-classics",
   "metadata": {},
   "source": [
    "# Glue Elastic Views Overview"
   ]
  },
  {
   "cell_type": "markdown",
   "id": "individual-swaziland",
   "metadata": {},
   "source": [
    "Using AWS Glue EV Console\n",
    "\n",
    "<img src=\"img/img2.png\">"
   ]
  },
  {
   "cell_type": "markdown",
   "id": "decreased-master",
   "metadata": {},
   "source": [
    "Replicating data across multiple AWS data stores using AWS Glue Elastic Views involves the following steps:"
   ]
  },
  {
   "cell_type": "markdown",
   "id": "amino-classic",
   "metadata": {},
   "source": [
    "<img src=\"img/img1.png\">"
   ]
  },
  {
   "cell_type": "markdown",
   "id": "terminal-affect",
   "metadata": {},
   "source": [
    "# Step 1: Create a `DynamoDB` table (`SOURCE`)"
   ]
  },
  {
   "cell_type": "code",
   "execution_count": 1,
   "id": "periodic-concentration",
   "metadata": {},
   "outputs": [
    {
     "name": "stdout",
     "output_type": "stream",
     "text": [
      "{\n",
      "  \"TableDescription\": {\n",
      "    \"AttributeDefinitions\": [\n",
      "      {\n",
      "        \"AttributeName\": \"release_year\",\n",
      "        \"AttributeType\": \"N\"\n",
      "      },\n",
      "      {\n",
      "        \"AttributeName\": \"title\",\n",
      "        \"AttributeType\": \"S\"\n",
      "      }\n",
      "    ],\n",
      "    \"TableName\": \"favoritemovies\",\n",
      "    \"KeySchema\": [\n",
      "      {\n",
      "        \"AttributeName\": \"title\",\n",
      "        \"KeyType\": \"HASH\"\n",
      "      },\n",
      "      {\n",
      "        \"AttributeName\": \"release_year\",\n",
      "        \"KeyType\": \"RANGE\"\n",
      "      }\n",
      "    ],\n",
      "    \"TableStatus\": \"CREATING\",\n",
      "    \"CreationDateTime\": \"2021-06-14T11:59:01.639000+05:30\",\n",
      "    \"ProvisionedThroughput\": {\n",
      "      \"NumberOfDecreasesToday\": 0,\n",
      "      \"ReadCapacityUnits\": 10,\n",
      "      \"WriteCapacityUnits\": 5\n",
      "    },\n",
      "    \"TableSizeBytes\": 0,\n",
      "    \"ItemCount\": 0,\n",
      "    \"TableArn\": \"arn:aws:dynamodb:us-east-1:507922848584:table/favoritemovies\",\n",
      "    \"TableId\": \"e99101a6-9b18-4692-ad98-feb9e6e4bbcb\"\n",
      "  }\n",
      "}\n"
     ]
    }
   ],
   "source": [
    "%%bash \n",
    "\n",
    "aws dynamodb create-table \\\n",
    "    --table-name favoritemovies \\\n",
    "    --attribute-definitions \\\n",
    "        AttributeName=title,AttributeType=S \\\n",
    "        AttributeName=release_year,AttributeType=N \\\n",
    "    --key-schema \\\n",
    "        AttributeName=title,KeyType=HASH \\\n",
    "        AttributeName=release_year,KeyType=RANGE \\\n",
    "    --provisioned-throughput \\\n",
    "            ReadCapacityUnits=10,WriteCapacityUnits=5 | jq . "
   ]
  },
  {
   "cell_type": "markdown",
   "id": "tired-country",
   "metadata": {},
   "source": [
    "### Use describe-table to verify that `DynamoDB` finished creating the `favoritemovies` table and to find the `ARN` of your table"
   ]
  },
  {
   "cell_type": "code",
   "execution_count": 2,
   "id": "royal-movie",
   "metadata": {},
   "outputs": [
    {
     "name": "stdout",
     "output_type": "stream",
     "text": [
      "        \"TableStatus\": \"ACTIVE\",\r\n",
      "        \"TableArn\": \"arn:aws:dynamodb:us-east-1:507922848584:table/favoritemovies\",\r\n"
     ]
    }
   ],
   "source": [
    "!aws dynamodb describe-table --table-name favoritemovies | grep -e TableStatus -e TableArn\n"
   ]
  },
  {
   "cell_type": "code",
   "execution_count": 3,
   "id": "natural-wagon",
   "metadata": {},
   "outputs": [],
   "source": [
    "dynamoDB_ARN = \"arn:aws:dynamodb:us-east-1:507922848584:table/favoritemovies\""
   ]
  },
  {
   "cell_type": "markdown",
   "id": "manual-brooklyn",
   "metadata": {},
   "source": [
    "### Put `items` in the Table: "
   ]
  },
  {
   "cell_type": "code",
   "execution_count": 4,
   "id": "radio-tokyo",
   "metadata": {},
   "outputs": [],
   "source": [
    "%%bash\n",
    "\n",
    "# Item 1\n",
    "aws dynamodb put-item \\\n",
    "--table-name favoritemovies  \\\n",
    "--item \\\n",
    "    '{\"title\": {\"S\": \"Inception\"}, \"release_year\": {\"N\": \"2010\"}}'\n",
    "\n",
    "# Item 2\n",
    "aws dynamodb put-item \\\n",
    "    --table-name favoritemovies \\\n",
    "    --item \\\n",
    "    '{\"title\": {\"S\": \"Moonlight\"}, \"release_year\": {\"N\": \"2016\"}}'\n",
    "\n",
    "#Item 3\n",
    "aws dynamodb put-item \\\n",
    "    --table-name favoritemovies \\\n",
    "    --item \\\n",
    "    '{\"title\": {\"S\": \"The Dark Knight\"}, \"release_year\": {\"N\": \"2008\"}}'"
   ]
  },
  {
   "cell_type": "markdown",
   "id": "sound-director",
   "metadata": {},
   "source": [
    "### Run `scan` to check that the data is added to the table "
   ]
  },
  {
   "cell_type": "code",
   "execution_count": 5,
   "id": "changing-pacific",
   "metadata": {},
   "outputs": [
    {
     "name": "stdout",
     "output_type": "stream",
     "text": [
      "\u001b[1;39m{\r\n",
      "  \u001b[0m\u001b[34;1m\"Items\"\u001b[0m\u001b[1;39m: \u001b[0m\u001b[1;39m[\r\n",
      "    \u001b[1;39m{\r\n",
      "      \u001b[0m\u001b[34;1m\"release_year\"\u001b[0m\u001b[1;39m: \u001b[0m\u001b[1;39m{\r\n",
      "        \u001b[0m\u001b[34;1m\"N\"\u001b[0m\u001b[1;39m: \u001b[0m\u001b[0;32m\"2008\"\u001b[0m\u001b[1;39m\r\n",
      "      \u001b[1;39m}\u001b[0m\u001b[1;39m,\r\n",
      "      \u001b[0m\u001b[34;1m\"title\"\u001b[0m\u001b[1;39m: \u001b[0m\u001b[1;39m{\r\n",
      "        \u001b[0m\u001b[34;1m\"S\"\u001b[0m\u001b[1;39m: \u001b[0m\u001b[0;32m\"The Dark Knight\"\u001b[0m\u001b[1;39m\r\n",
      "      \u001b[1;39m}\u001b[0m\u001b[1;39m\r\n",
      "    \u001b[1;39m}\u001b[0m\u001b[1;39m,\r\n",
      "    \u001b[1;39m{\r\n",
      "      \u001b[0m\u001b[34;1m\"release_year\"\u001b[0m\u001b[1;39m: \u001b[0m\u001b[1;39m{\r\n",
      "        \u001b[0m\u001b[34;1m\"N\"\u001b[0m\u001b[1;39m: \u001b[0m\u001b[0;32m\"2010\"\u001b[0m\u001b[1;39m\r\n",
      "      \u001b[1;39m}\u001b[0m\u001b[1;39m,\r\n",
      "      \u001b[0m\u001b[34;1m\"title\"\u001b[0m\u001b[1;39m: \u001b[0m\u001b[1;39m{\r\n",
      "        \u001b[0m\u001b[34;1m\"S\"\u001b[0m\u001b[1;39m: \u001b[0m\u001b[0;32m\"Inception\"\u001b[0m\u001b[1;39m\r\n",
      "      \u001b[1;39m}\u001b[0m\u001b[1;39m\r\n",
      "    \u001b[1;39m}\u001b[0m\u001b[1;39m,\r\n",
      "    \u001b[1;39m{\r\n",
      "      \u001b[0m\u001b[34;1m\"release_year\"\u001b[0m\u001b[1;39m: \u001b[0m\u001b[1;39m{\r\n",
      "        \u001b[0m\u001b[34;1m\"N\"\u001b[0m\u001b[1;39m: \u001b[0m\u001b[0;32m\"2016\"\u001b[0m\u001b[1;39m\r\n",
      "      \u001b[1;39m}\u001b[0m\u001b[1;39m,\r\n",
      "      \u001b[0m\u001b[34;1m\"title\"\u001b[0m\u001b[1;39m: \u001b[0m\u001b[1;39m{\r\n",
      "        \u001b[0m\u001b[34;1m\"S\"\u001b[0m\u001b[1;39m: \u001b[0m\u001b[0;32m\"Moonlight\"\u001b[0m\u001b[1;39m\r\n",
      "      \u001b[1;39m}\u001b[0m\u001b[1;39m\r\n",
      "    \u001b[1;39m}\u001b[0m\u001b[1;39m\r\n",
      "  \u001b[1;39m]\u001b[0m\u001b[1;39m,\r\n",
      "  \u001b[0m\u001b[34;1m\"Count\"\u001b[0m\u001b[1;39m: \u001b[0m\u001b[0;39m3\u001b[0m\u001b[1;39m,\r\n",
      "  \u001b[0m\u001b[34;1m\"ScannedCount\"\u001b[0m\u001b[1;39m: \u001b[0m\u001b[0;39m3\u001b[0m\u001b[1;39m,\r\n",
      "  \u001b[0m\u001b[34;1m\"ConsumedCapacity\"\u001b[0m\u001b[1;39m: \u001b[0m\u001b[1;30mnull\u001b[0m\u001b[1;39m\r\n",
      "\u001b[1;39m}\u001b[0m\r\n"
     ]
    }
   ],
   "source": [
    "!aws dynamodb scan --table-name favoritemovies |jq . \n"
   ]
  },
  {
   "cell_type": "markdown",
   "id": "prerequisite-twins",
   "metadata": {},
   "source": [
    "<img src=\"img/img3.png\">"
   ]
  },
  {
   "cell_type": "markdown",
   "id": "homeless-approval",
   "metadata": {},
   "source": [
    "# Step 2: Create an Elastic View(Table and View)"
   ]
  },
  {
   "cell_type": "markdown",
   "id": "statutory-tissue",
   "metadata": {},
   "source": [
    "### Create an Elastic Views table"
   ]
  },
  {
   "cell_type": "code",
   "execution_count": 6,
   "id": "superb-cuisine",
   "metadata": {},
   "outputs": [
    {
     "name": "stdout",
     "output_type": "stream",
     "text": [
      "\u001b[1;39m{\r\n",
      "  \u001b[0m\u001b[34;1m\"datastore\"\u001b[0m\u001b[1;39m: \u001b[0m\u001b[1;39m{\r\n",
      "    \u001b[0m\u001b[34;1m\"externalDatastoreIdentifier\"\u001b[0m\u001b[1;39m: \u001b[0m\u001b[0;32m\"arn:aws:dynamodb:us-east-1:507922848584:table/favoritemovies\"\u001b[0m\u001b[1;39m,\r\n",
      "    \u001b[0m\u001b[34;1m\"datastoreName\"\u001b[0m\u001b[1;39m: \u001b[0m\u001b[0;32m\"evfavoritemovies\"\u001b[0m\u001b[1;39m,\r\n",
      "    \u001b[0m\u001b[34;1m\"datastoreType\"\u001b[0m\u001b[1;39m: \u001b[0m\u001b[0;32m\"DYNAMODB\"\u001b[0m\u001b[1;39m,\r\n",
      "    \u001b[0m\u001b[34;1m\"datastoreStatus\"\u001b[0m\u001b[1;39m: \u001b[0m\u001b[0;32m\"CREATING\"\u001b[0m\u001b[1;39m,\r\n",
      "    \u001b[0m\u001b[34;1m\"datastoreArn\"\u001b[0m\u001b[1;39m: \u001b[0m\u001b[0;32m\"arn:aws:elasticviews:us-east-1:507922848584:datastore/evfavoritemovies-7ISCuEHelKB42cQUCEDpKp\"\u001b[0m\u001b[1;39m,\r\n",
      "    \u001b[0m\u001b[34;1m\"createdTime\"\u001b[0m\u001b[1;39m: \u001b[0m\u001b[0;32m\"2021-06-14T12:01:00.237000+05:30\"\u001b[0m\u001b[1;39m,\r\n",
      "    \u001b[0m\u001b[34;1m\"lastUpdatedTime\"\u001b[0m\u001b[1;39m: \u001b[0m\u001b[0;32m\"2021-06-14T12:01:00.237000+05:30\"\u001b[0m\u001b[1;39m\r\n",
      "  \u001b[1;39m}\u001b[0m\u001b[1;39m\r\n",
      "\u001b[1;39m}\u001b[0m\r\n"
     ]
    }
   ],
   "source": [
    "!aws elasticviews create-external-datastore \\\n",
    "    --external-datastore-identifier {dynamoDB_ARN} \\\n",
    "    --datastore-name evfavoritemovies --datastore-type DYNAMODB | jq . "
   ]
  },
  {
   "cell_type": "code",
   "execution_count": 7,
   "id": "russian-variance",
   "metadata": {
    "scrolled": false
   },
   "outputs": [
    {
     "name": "stdout",
     "output_type": "stream",
     "text": [
      "\u001b[1;39m{\r\n",
      "  \u001b[0m\u001b[34;1m\"datastoreName\"\u001b[0m\u001b[1;39m: \u001b[0m\u001b[0;32m\"evfavoritemovies\"\u001b[0m\u001b[1;39m,\r\n",
      "  \u001b[0m\u001b[34;1m\"sourceNamespace\"\u001b[0m\u001b[1;39m: \u001b[0m\u001b[0;32m\"evfavoritemovies.favoritemovies\"\u001b[0m\u001b[1;39m,\r\n",
      "  \u001b[0m\u001b[34;1m\"sourceType\"\u001b[0m\u001b[1;39m: \u001b[0m\u001b[0;32m\"DYNAMODB\"\u001b[0m\u001b[1;39m,\r\n",
      "  \u001b[0m\u001b[34;1m\"datastoreArn\"\u001b[0m\u001b[1;39m: \u001b[0m\u001b[0;32m\"arn:aws:elasticviews:us-east-1:507922848584:datastore/evfavoritemovies-7ISCuEHelKB42cQUCEDpKp\"\u001b[0m\u001b[1;39m,\r\n",
      "  \u001b[0m\u001b[34;1m\"sourceArn\"\u001b[0m\u001b[1;39m: \u001b[0m\u001b[0;32m\"arn:aws:elasticviews:us-east-1:507922848584:source/favoritemovies-1yQgYQbwge35SHdA1yrzTq\"\u001b[0m\u001b[1;39m,\r\n",
      "  \u001b[0m\u001b[34;1m\"sourceSchema\"\u001b[0m\u001b[1;39m: \u001b[0m\u001b[1;39m{\r\n",
      "    \u001b[0m\u001b[34;1m\"attributeSchemaList\"\u001b[0m\u001b[1;39m: \u001b[0m\u001b[1;39m[\r\n",
      "      \u001b[1;39m{\r\n",
      "        \u001b[0m\u001b[34;1m\"attributeName\"\u001b[0m\u001b[1;39m: \u001b[0m\u001b[0;32m\"release_year\"\u001b[0m\u001b[1;39m,\r\n",
      "        \u001b[0m\u001b[34;1m\"typeDefinition\"\u001b[0m\u001b[1;39m: \u001b[0m\u001b[1;39m{\r\n",
      "          \u001b[0m\u001b[34;1m\"typeName\"\u001b[0m\u001b[1;39m: \u001b[0m\u001b[0;32m\"ddb:number\"\u001b[0m\u001b[1;39m,\r\n",
      "          \u001b[0m\u001b[34;1m\"typeConstraints\"\u001b[0m\u001b[1;39m: \u001b[0m\u001b[1;39m[\r\n",
      "            \u001b[1;39m{\r\n",
      "              \u001b[0m\u001b[34;1m\"constraintName\"\u001b[0m\u001b[1;39m: \u001b[0m\u001b[0;32m\"Precision\"\u001b[0m\u001b[1;39m,\r\n",
      "              \u001b[0m\u001b[34;1m\"constraintValue\"\u001b[0m\u001b[1;39m: \u001b[0m\u001b[0;32m\"[1, 38]\"\u001b[0m\u001b[1;39m\r\n",
      "            \u001b[1;39m}\u001b[0m\u001b[1;39m,\r\n",
      "            \u001b[1;39m{\r\n",
      "              \u001b[0m\u001b[34;1m\"constraintName\"\u001b[0m\u001b[1;39m: \u001b[0m\u001b[0;32m\"ValidValues\"\u001b[0m\u001b[1;39m,\r\n",
      "              \u001b[0m\u001b[34;1m\"constraintValue\"\u001b[0m\u001b[1;39m: \u001b[0m\u001b[0;32m\"[-9.9999999999999999999999999999999999999E+125, 9.9999999999999999999999999999999999999E+125]\"\u001b[0m\u001b[1;39m\r\n",
      "            \u001b[1;39m}\u001b[0m\u001b[1;39m,\r\n",
      "            \u001b[1;39m{\r\n",
      "              \u001b[0m\u001b[34;1m\"constraintName\"\u001b[0m\u001b[1;39m: \u001b[0m\u001b[0;32m\"Required\"\u001b[0m\u001b[1;39m,\r\n",
      "              \u001b[0m\u001b[34;1m\"constraintValue\"\u001b[0m\u001b[1;39m: \u001b[0m\u001b[0;32m\"ConstraintBoolean(value=true)\"\u001b[0m\u001b[1;39m\r\n",
      "            \u001b[1;39m}\u001b[0m\u001b[1;39m\r\n",
      "          \u001b[1;39m]\u001b[0m\u001b[1;39m\r\n",
      "        \u001b[1;39m}\u001b[0m\u001b[1;39m\r\n",
      "      \u001b[1;39m}\u001b[0m\u001b[1;39m,\r\n",
      "      \u001b[1;39m{\r\n",
      "        \u001b[0m\u001b[34;1m\"attributeName\"\u001b[0m\u001b[1;39m: \u001b[0m\u001b[0;32m\"title\"\u001b[0m\u001b[1;39m,\r\n",
      "        \u001b[0m\u001b[34;1m\"typeDefinition\"\u001b[0m\u001b[1;39m: \u001b[0m\u001b[1;39m{\r\n",
      "          \u001b[0m\u001b[34;1m\"typeName\"\u001b[0m\u001b[1;39m: \u001b[0m\u001b[0;32m\"ddb:string\"\u001b[0m\u001b[1;39m,\r\n",
      "          \u001b[0m\u001b[34;1m\"typeConstraints\"\u001b[0m\u001b[1;39m: \u001b[0m\u001b[1;39m[\r\n",
      "            \u001b[1;39m{\r\n",
      "              \u001b[0m\u001b[34;1m\"constraintName\"\u001b[0m\u001b[1;39m: \u001b[0m\u001b[0;32m\"UTF8ByteLength\"\u001b[0m\u001b[1;39m,\r\n",
      "              \u001b[0m\u001b[34;1m\"constraintValue\"\u001b[0m\u001b[1;39m: \u001b[0m\u001b[0;32m\"[1, 2048]\"\u001b[0m\u001b[1;39m\r\n",
      "            \u001b[1;39m}\u001b[0m\u001b[1;39m,\r\n",
      "            \u001b[1;39m{\r\n",
      "              \u001b[0m\u001b[34;1m\"constraintName\"\u001b[0m\u001b[1;39m: \u001b[0m\u001b[0;32m\"Required\"\u001b[0m\u001b[1;39m,\r\n",
      "              \u001b[0m\u001b[34;1m\"constraintValue\"\u001b[0m\u001b[1;39m: \u001b[0m\u001b[0;32m\"ConstraintBoolean(value=true)\"\u001b[0m\u001b[1;39m\r\n",
      "            \u001b[1;39m}\u001b[0m\u001b[1;39m\r\n",
      "          \u001b[1;39m]\u001b[0m\u001b[1;39m\r\n",
      "        \u001b[1;39m}\u001b[0m\u001b[1;39m\r\n",
      "      \u001b[1;39m}\u001b[0m\u001b[1;39m\r\n",
      "    \u001b[1;39m]\u001b[0m\u001b[1;39m\r\n",
      "  \u001b[1;39m}\u001b[0m\u001b[1;39m,\r\n",
      "  \u001b[0m\u001b[34;1m\"createdTime\"\u001b[0m\u001b[1;39m: \u001b[0m\u001b[0;32m\"2021-06-14T12:01:01.195000+05:30\"\u001b[0m\u001b[1;39m,\r\n",
      "  \u001b[0m\u001b[34;1m\"lastUpdatedTime\"\u001b[0m\u001b[1;39m: \u001b[0m\u001b[0;32m\"2021-06-14T12:01:01.195000+05:30\"\u001b[0m\u001b[1;39m,\r\n",
      "  \u001b[0m\u001b[34;1m\"sourceStatus\"\u001b[0m\u001b[1;39m: \u001b[0m\u001b[0;32m\"INACTIVE\"\u001b[0m\u001b[1;39m\r\n",
      "\u001b[1;39m}\u001b[0m\r\n"
     ]
    }
   ],
   "source": [
    "!aws elasticviews list-sources | jq \".sources[-1]\"  # Copy the sourceArn"
   ]
  },
  {
   "cell_type": "code",
   "execution_count": 8,
   "id": "billion-warren",
   "metadata": {},
   "outputs": [],
   "source": [
    "sourceArn = \"arn:aws:elasticviews:us-east-1:507922848584:source/favoritemovies-1yQgYQbwge35SHdA1yrzTq\""
   ]
  },
  {
   "cell_type": "markdown",
   "id": "verbal-output",
   "metadata": {},
   "source": [
    "### Activate the Elastic Views table"
   ]
  },
  {
   "cell_type": "code",
   "execution_count": 9,
   "id": "congressional-moment",
   "metadata": {},
   "outputs": [
    {
     "name": "stdout",
     "output_type": "stream",
     "text": [
      "\u001b[1;39m{\r\n",
      "  \u001b[0m\u001b[34;1m\"source\"\u001b[0m\u001b[1;39m: \u001b[0m\u001b[1;39m{\r\n",
      "    \u001b[0m\u001b[34;1m\"datastoreName\"\u001b[0m\u001b[1;39m: \u001b[0m\u001b[0;32m\"evfavoritemovies\"\u001b[0m\u001b[1;39m,\r\n",
      "    \u001b[0m\u001b[34;1m\"sourceNamespace\"\u001b[0m\u001b[1;39m: \u001b[0m\u001b[0;32m\"evfavoritemovies.favoritemovies\"\u001b[0m\u001b[1;39m,\r\n",
      "    \u001b[0m\u001b[34;1m\"sourceType\"\u001b[0m\u001b[1;39m: \u001b[0m\u001b[0;32m\"DYNAMODB\"\u001b[0m\u001b[1;39m,\r\n",
      "    \u001b[0m\u001b[34;1m\"datastoreArn\"\u001b[0m\u001b[1;39m: \u001b[0m\u001b[0;32m\"arn:aws:elasticviews:us-east-1:507922848584:datastore/evfavoritemovies-7ISCuEHelKB42cQUCEDpKp\"\u001b[0m\u001b[1;39m,\r\n",
      "    \u001b[0m\u001b[34;1m\"sourceArn\"\u001b[0m\u001b[1;39m: \u001b[0m\u001b[0;32m\"arn:aws:elasticviews:us-east-1:507922848584:source/favoritemovies-1yQgYQbwge35SHdA1yrzTq\"\u001b[0m\u001b[1;39m,\r\n",
      "    \u001b[0m\u001b[34;1m\"sourceSchema\"\u001b[0m\u001b[1;39m: \u001b[0m\u001b[1;39m{\r\n",
      "      \u001b[0m\u001b[34;1m\"attributeSchemaList\"\u001b[0m\u001b[1;39m: \u001b[0m\u001b[1;39m[\r\n",
      "        \u001b[1;39m{\r\n",
      "          \u001b[0m\u001b[34;1m\"attributeName\"\u001b[0m\u001b[1;39m: \u001b[0m\u001b[0;32m\"release_year\"\u001b[0m\u001b[1;39m,\r\n",
      "          \u001b[0m\u001b[34;1m\"typeDefinition\"\u001b[0m\u001b[1;39m: \u001b[0m\u001b[1;39m{\r\n",
      "            \u001b[0m\u001b[34;1m\"typeName\"\u001b[0m\u001b[1;39m: \u001b[0m\u001b[0;32m\"ddb:number\"\u001b[0m\u001b[1;39m,\r\n",
      "            \u001b[0m\u001b[34;1m\"typeConstraints\"\u001b[0m\u001b[1;39m: \u001b[0m\u001b[1;39m[\r\n",
      "              \u001b[1;39m{\r\n",
      "                \u001b[0m\u001b[34;1m\"constraintName\"\u001b[0m\u001b[1;39m: \u001b[0m\u001b[0;32m\"Precision\"\u001b[0m\u001b[1;39m,\r\n",
      "                \u001b[0m\u001b[34;1m\"constraintValue\"\u001b[0m\u001b[1;39m: \u001b[0m\u001b[0;32m\"[1, 38]\"\u001b[0m\u001b[1;39m\r\n",
      "              \u001b[1;39m}\u001b[0m\u001b[1;39m,\r\n",
      "              \u001b[1;39m{\r\n",
      "                \u001b[0m\u001b[34;1m\"constraintName\"\u001b[0m\u001b[1;39m: \u001b[0m\u001b[0;32m\"ValidValues\"\u001b[0m\u001b[1;39m,\r\n",
      "                \u001b[0m\u001b[34;1m\"constraintValue\"\u001b[0m\u001b[1;39m: \u001b[0m\u001b[0;32m\"[-9.9999999999999999999999999999999999999E+125, 9.9999999999999999999999999999999999999E+125]\"\u001b[0m\u001b[1;39m\r\n",
      "              \u001b[1;39m}\u001b[0m\u001b[1;39m,\r\n",
      "              \u001b[1;39m{\r\n",
      "                \u001b[0m\u001b[34;1m\"constraintName\"\u001b[0m\u001b[1;39m: \u001b[0m\u001b[0;32m\"Required\"\u001b[0m\u001b[1;39m,\r\n",
      "                \u001b[0m\u001b[34;1m\"constraintValue\"\u001b[0m\u001b[1;39m: \u001b[0m\u001b[0;32m\"ConstraintBoolean(value=true)\"\u001b[0m\u001b[1;39m\r\n",
      "              \u001b[1;39m}\u001b[0m\u001b[1;39m\r\n",
      "            \u001b[1;39m]\u001b[0m\u001b[1;39m\r\n",
      "          \u001b[1;39m}\u001b[0m\u001b[1;39m\r\n",
      "        \u001b[1;39m}\u001b[0m\u001b[1;39m,\r\n",
      "        \u001b[1;39m{\r\n",
      "          \u001b[0m\u001b[34;1m\"attributeName\"\u001b[0m\u001b[1;39m: \u001b[0m\u001b[0;32m\"title\"\u001b[0m\u001b[1;39m,\r\n",
      "          \u001b[0m\u001b[34;1m\"typeDefinition\"\u001b[0m\u001b[1;39m: \u001b[0m\u001b[1;39m{\r\n",
      "            \u001b[0m\u001b[34;1m\"typeName\"\u001b[0m\u001b[1;39m: \u001b[0m\u001b[0;32m\"ddb:string\"\u001b[0m\u001b[1;39m,\r\n",
      "            \u001b[0m\u001b[34;1m\"typeConstraints\"\u001b[0m\u001b[1;39m: \u001b[0m\u001b[1;39m[\r\n",
      "              \u001b[1;39m{\r\n",
      "                \u001b[0m\u001b[34;1m\"constraintName\"\u001b[0m\u001b[1;39m: \u001b[0m\u001b[0;32m\"UTF8ByteLength\"\u001b[0m\u001b[1;39m,\r\n",
      "                \u001b[0m\u001b[34;1m\"constraintValue\"\u001b[0m\u001b[1;39m: \u001b[0m\u001b[0;32m\"[1, 2048]\"\u001b[0m\u001b[1;39m\r\n",
      "              \u001b[1;39m}\u001b[0m\u001b[1;39m,\r\n",
      "              \u001b[1;39m{\r\n",
      "                \u001b[0m\u001b[34;1m\"constraintName\"\u001b[0m\u001b[1;39m: \u001b[0m\u001b[0;32m\"Required\"\u001b[0m\u001b[1;39m,\r\n",
      "                \u001b[0m\u001b[34;1m\"constraintValue\"\u001b[0m\u001b[1;39m: \u001b[0m\u001b[0;32m\"ConstraintBoolean(value=true)\"\u001b[0m\u001b[1;39m\r\n",
      "              \u001b[1;39m}\u001b[0m\u001b[1;39m\r\n",
      "            \u001b[1;39m]\u001b[0m\u001b[1;39m\r\n",
      "          \u001b[1;39m}\u001b[0m\u001b[1;39m\r\n",
      "        \u001b[1;39m}\u001b[0m\u001b[1;39m\r\n",
      "      \u001b[1;39m]\u001b[0m\u001b[1;39m\r\n",
      "    \u001b[1;39m}\u001b[0m\u001b[1;39m,\r\n",
      "    \u001b[0m\u001b[34;1m\"createdTime\"\u001b[0m\u001b[1;39m: \u001b[0m\u001b[0;32m\"2021-06-14T12:01:01.195000+05:30\"\u001b[0m\u001b[1;39m,\r\n",
      "    \u001b[0m\u001b[34;1m\"lastUpdatedTime\"\u001b[0m\u001b[1;39m: \u001b[0m\u001b[0;32m\"2021-06-14T12:02:44.516000+05:30\"\u001b[0m\u001b[1;39m,\r\n",
      "    \u001b[0m\u001b[34;1m\"sourceStatusReason\"\u001b[0m\u001b[1;39m: \u001b[0m\u001b[0;32m\" \"\u001b[0m\u001b[1;39m,\r\n",
      "    \u001b[0m\u001b[34;1m\"sourceStatus\"\u001b[0m\u001b[1;39m: \u001b[0m\u001b[0;32m\"ACTIVATING\"\u001b[0m\u001b[1;39m\r\n",
      "  \u001b[1;39m}\u001b[0m\u001b[1;39m\r\n",
      "\u001b[1;39m}\u001b[0m\r\n"
     ]
    }
   ],
   "source": [
    "!aws elasticviews start-source \\\n",
    "    --source-identifier {sourceArn} | jq . "
   ]
  },
  {
   "cell_type": "markdown",
   "id": "mechanical-carnival",
   "metadata": {},
   "source": [
    "### Check the status of the Elastic Views table"
   ]
  },
  {
   "cell_type": "code",
   "execution_count": 13,
   "id": "hawaiian-generation",
   "metadata": {},
   "outputs": [
    {
     "name": "stdout",
     "output_type": "stream",
     "text": [
      "\u001b[1;39m{\r\n",
      "  \u001b[0m\u001b[34;1m\"source\"\u001b[0m\u001b[1;39m: \u001b[0m\u001b[1;39m{\r\n",
      "    \u001b[0m\u001b[34;1m\"datastoreName\"\u001b[0m\u001b[1;39m: \u001b[0m\u001b[0;32m\"evfavoritemovies\"\u001b[0m\u001b[1;39m,\r\n",
      "    \u001b[0m\u001b[34;1m\"sourceNamespace\"\u001b[0m\u001b[1;39m: \u001b[0m\u001b[0;32m\"evfavoritemovies.favoritemovies\"\u001b[0m\u001b[1;39m,\r\n",
      "    \u001b[0m\u001b[34;1m\"sourceType\"\u001b[0m\u001b[1;39m: \u001b[0m\u001b[0;32m\"DYNAMODB\"\u001b[0m\u001b[1;39m,\r\n",
      "    \u001b[0m\u001b[34;1m\"datastoreArn\"\u001b[0m\u001b[1;39m: \u001b[0m\u001b[0;32m\"arn:aws:elasticviews:us-east-1:507922848584:datastore/evfavoritemovies-7ISCuEHelKB42cQUCEDpKp\"\u001b[0m\u001b[1;39m,\r\n",
      "    \u001b[0m\u001b[34;1m\"sourceArn\"\u001b[0m\u001b[1;39m: \u001b[0m\u001b[0;32m\"arn:aws:elasticviews:us-east-1:507922848584:source/favoritemovies-1yQgYQbwge35SHdA1yrzTq\"\u001b[0m\u001b[1;39m,\r\n",
      "    \u001b[0m\u001b[34;1m\"sourceSchema\"\u001b[0m\u001b[1;39m: \u001b[0m\u001b[1;39m{\r\n",
      "      \u001b[0m\u001b[34;1m\"attributeSchemaList\"\u001b[0m\u001b[1;39m: \u001b[0m\u001b[1;39m[\r\n",
      "        \u001b[1;39m{\r\n",
      "          \u001b[0m\u001b[34;1m\"attributeName\"\u001b[0m\u001b[1;39m: \u001b[0m\u001b[0;32m\"release_year\"\u001b[0m\u001b[1;39m,\r\n",
      "          \u001b[0m\u001b[34;1m\"typeDefinition\"\u001b[0m\u001b[1;39m: \u001b[0m\u001b[1;39m{\r\n",
      "            \u001b[0m\u001b[34;1m\"typeName\"\u001b[0m\u001b[1;39m: \u001b[0m\u001b[0;32m\"ddb:number\"\u001b[0m\u001b[1;39m,\r\n",
      "            \u001b[0m\u001b[34;1m\"typeConstraints\"\u001b[0m\u001b[1;39m: \u001b[0m\u001b[1;39m[\r\n",
      "              \u001b[1;39m{\r\n",
      "                \u001b[0m\u001b[34;1m\"constraintName\"\u001b[0m\u001b[1;39m: \u001b[0m\u001b[0;32m\"Precision\"\u001b[0m\u001b[1;39m,\r\n",
      "                \u001b[0m\u001b[34;1m\"constraintValue\"\u001b[0m\u001b[1;39m: \u001b[0m\u001b[0;32m\"[1, 38]\"\u001b[0m\u001b[1;39m\r\n",
      "              \u001b[1;39m}\u001b[0m\u001b[1;39m,\r\n",
      "              \u001b[1;39m{\r\n",
      "                \u001b[0m\u001b[34;1m\"constraintName\"\u001b[0m\u001b[1;39m: \u001b[0m\u001b[0;32m\"ValidValues\"\u001b[0m\u001b[1;39m,\r\n",
      "                \u001b[0m\u001b[34;1m\"constraintValue\"\u001b[0m\u001b[1;39m: \u001b[0m\u001b[0;32m\"[-9.9999999999999999999999999999999999999E+125, 9.9999999999999999999999999999999999999E+125]\"\u001b[0m\u001b[1;39m\r\n",
      "              \u001b[1;39m}\u001b[0m\u001b[1;39m,\r\n",
      "              \u001b[1;39m{\r\n",
      "                \u001b[0m\u001b[34;1m\"constraintName\"\u001b[0m\u001b[1;39m: \u001b[0m\u001b[0;32m\"Required\"\u001b[0m\u001b[1;39m,\r\n",
      "                \u001b[0m\u001b[34;1m\"constraintValue\"\u001b[0m\u001b[1;39m: \u001b[0m\u001b[0;32m\"ConstraintBoolean(value=true)\"\u001b[0m\u001b[1;39m\r\n",
      "              \u001b[1;39m}\u001b[0m\u001b[1;39m\r\n",
      "            \u001b[1;39m]\u001b[0m\u001b[1;39m\r\n",
      "          \u001b[1;39m}\u001b[0m\u001b[1;39m\r\n",
      "        \u001b[1;39m}\u001b[0m\u001b[1;39m,\r\n",
      "        \u001b[1;39m{\r\n",
      "          \u001b[0m\u001b[34;1m\"attributeName\"\u001b[0m\u001b[1;39m: \u001b[0m\u001b[0;32m\"title\"\u001b[0m\u001b[1;39m,\r\n",
      "          \u001b[0m\u001b[34;1m\"typeDefinition\"\u001b[0m\u001b[1;39m: \u001b[0m\u001b[1;39m{\r\n",
      "            \u001b[0m\u001b[34;1m\"typeName\"\u001b[0m\u001b[1;39m: \u001b[0m\u001b[0;32m\"ddb:string\"\u001b[0m\u001b[1;39m,\r\n",
      "            \u001b[0m\u001b[34;1m\"typeConstraints\"\u001b[0m\u001b[1;39m: \u001b[0m\u001b[1;39m[\r\n",
      "              \u001b[1;39m{\r\n",
      "                \u001b[0m\u001b[34;1m\"constraintName\"\u001b[0m\u001b[1;39m: \u001b[0m\u001b[0;32m\"UTF8ByteLength\"\u001b[0m\u001b[1;39m,\r\n",
      "                \u001b[0m\u001b[34;1m\"constraintValue\"\u001b[0m\u001b[1;39m: \u001b[0m\u001b[0;32m\"[1, 2048]\"\u001b[0m\u001b[1;39m\r\n",
      "              \u001b[1;39m}\u001b[0m\u001b[1;39m,\r\n",
      "              \u001b[1;39m{\r\n",
      "                \u001b[0m\u001b[34;1m\"constraintName\"\u001b[0m\u001b[1;39m: \u001b[0m\u001b[0;32m\"Required\"\u001b[0m\u001b[1;39m,\r\n",
      "                \u001b[0m\u001b[34;1m\"constraintValue\"\u001b[0m\u001b[1;39m: \u001b[0m\u001b[0;32m\"ConstraintBoolean(value=true)\"\u001b[0m\u001b[1;39m\r\n",
      "              \u001b[1;39m}\u001b[0m\u001b[1;39m\r\n",
      "            \u001b[1;39m]\u001b[0m\u001b[1;39m\r\n",
      "          \u001b[1;39m}\u001b[0m\u001b[1;39m\r\n",
      "        \u001b[1;39m}\u001b[0m\u001b[1;39m\r\n",
      "      \u001b[1;39m]\u001b[0m\u001b[1;39m\r\n",
      "    \u001b[1;39m}\u001b[0m\u001b[1;39m,\r\n",
      "    \u001b[0m\u001b[34;1m\"createdTime\"\u001b[0m\u001b[1;39m: \u001b[0m\u001b[0;32m\"2021-06-14T12:01:01.195000+05:30\"\u001b[0m\u001b[1;39m,\r\n",
      "    \u001b[0m\u001b[34;1m\"lastUpdatedTime\"\u001b[0m\u001b[1;39m: \u001b[0m\u001b[0;32m\"2021-06-14T12:04:04.374000+05:30\"\u001b[0m\u001b[1;39m,\r\n",
      "    \u001b[0m\u001b[34;1m\"sourceStatusReason\"\u001b[0m\u001b[1;39m: \u001b[0m\u001b[0;32m\" \"\u001b[0m\u001b[1;39m,\r\n",
      "    \u001b[0m\u001b[34;1m\"sourceStatus\"\u001b[0m\u001b[1;39m: \u001b[0m\u001b[0;32m\"ACTIVE\"\u001b[0m\u001b[1;39m\r\n",
      "  \u001b[1;39m}\u001b[0m\u001b[1;39m\r\n",
      "\u001b[1;39m}\u001b[0m\r\n"
     ]
    }
   ],
   "source": [
    "!aws elasticviews describe-source \\\n",
    "    --source-identifier {sourceArn} | jq . "
   ]
  },
  {
   "cell_type": "markdown",
   "id": "corporate-education",
   "metadata": {},
   "source": [
    "<img src=\"img/img4.png\">"
   ]
  },
  {
   "cell_type": "markdown",
   "id": "built-senegal",
   "metadata": {},
   "source": [
    "### Create an Elastic Views view"
   ]
  },
  {
   "cell_type": "code",
   "execution_count": 14,
   "id": "ultimate-traveler",
   "metadata": {},
   "outputs": [
    {
     "name": "stdout",
     "output_type": "stream",
     "text": [
      "\u001b[1;39m{\r\n",
      "  \u001b[0m\u001b[34;1m\"view\"\u001b[0m\u001b[1;39m: \u001b[0m\u001b[1;39m{\r\n",
      "    \u001b[0m\u001b[34;1m\"viewName\"\u001b[0m\u001b[1;39m: \u001b[0m\u001b[0;32m\"favoritemovies-view\"\u001b[0m\u001b[1;39m,\r\n",
      "    \u001b[0m\u001b[34;1m\"viewArn\"\u001b[0m\u001b[1;39m: \u001b[0m\u001b[0;32m\"arn:aws:elasticviews:us-east-1:507922848584:view/favoritemovies-view-Gzwyrxov5Xk4aAY7Gyl3pu\"\u001b[0m\u001b[1;39m,\r\n",
      "    \u001b[0m\u001b[34;1m\"viewDefinition\"\u001b[0m\u001b[1;39m: \u001b[0m\u001b[0;32m\"SELECT CAST(release_year AS int4), title FROM evfavoritemovies.favoritemovies\"\u001b[0m\u001b[1;39m,\r\n",
      "    \u001b[0m\u001b[34;1m\"provenances\"\u001b[0m\u001b[1;39m: \u001b[0m\u001b[1;39m[\r\n",
      "      \u001b[0;32m\"release_year\"\u001b[0m\u001b[1;39m,\r\n",
      "      \u001b[0;32m\"title\"\u001b[0m\u001b[1;39m\r\n",
      "    \u001b[1;39m]\u001b[0m\u001b[1;39m,\r\n",
      "    \u001b[0m\u001b[34;1m\"viewStatus\"\u001b[0m\u001b[1;39m: \u001b[0m\u001b[0;32m\"INACTIVE\"\u001b[0m\u001b[1;39m,\r\n",
      "    \u001b[0m\u001b[34;1m\"sourceOrViewArns\"\u001b[0m\u001b[1;39m: \u001b[0m\u001b[1;39m[\r\n",
      "      \u001b[0;32m\"arn:aws:elasticviews:us-east-1:507922848584:source/favoritemovies-1yQgYQbwge35SHdA1yrzTq\"\u001b[0m\u001b[1;39m\r\n",
      "    \u001b[1;39m]\u001b[0m\u001b[1;39m,\r\n",
      "    \u001b[0m\u001b[34;1m\"viewSchema\"\u001b[0m\u001b[1;39m: \u001b[0m\u001b[1;39m{\r\n",
      "      \u001b[0m\u001b[34;1m\"attributeSchemaList\"\u001b[0m\u001b[1;39m: \u001b[0m\u001b[1;39m[\r\n",
      "        \u001b[1;39m{\r\n",
      "          \u001b[0m\u001b[34;1m\"attributeName\"\u001b[0m\u001b[1;39m: \u001b[0m\u001b[0;32m\"release_year\"\u001b[0m\u001b[1;39m,\r\n",
      "          \u001b[0m\u001b[34;1m\"typeDefinition\"\u001b[0m\u001b[1;39m: \u001b[0m\u001b[1;39m{\r\n",
      "            \u001b[0m\u001b[34;1m\"typeName\"\u001b[0m\u001b[1;39m: \u001b[0m\u001b[0;32m\"int\"\u001b[0m\u001b[1;39m,\r\n",
      "            \u001b[0m\u001b[34;1m\"typeConstraints\"\u001b[0m\u001b[1;39m: \u001b[0m\u001b[1;39m[\r\n",
      "              \u001b[1;39m{\r\n",
      "                \u001b[0m\u001b[34;1m\"constraintName\"\u001b[0m\u001b[1;39m: \u001b[0m\u001b[0;32m\"ValidValues\"\u001b[0m\u001b[1;39m,\r\n",
      "                \u001b[0m\u001b[34;1m\"constraintValue\"\u001b[0m\u001b[1;39m: \u001b[0m\u001b[0;32m\"[-2147483648, 2147483647]\"\u001b[0m\u001b[1;39m\r\n",
      "              \u001b[1;39m}\u001b[0m\u001b[1;39m\r\n",
      "            \u001b[1;39m]\u001b[0m\u001b[1;39m\r\n",
      "          \u001b[1;39m}\u001b[0m\u001b[1;39m\r\n",
      "        \u001b[1;39m}\u001b[0m\u001b[1;39m,\r\n",
      "        \u001b[1;39m{\r\n",
      "          \u001b[0m\u001b[34;1m\"attributeName\"\u001b[0m\u001b[1;39m: \u001b[0m\u001b[0;32m\"title\"\u001b[0m\u001b[1;39m,\r\n",
      "          \u001b[0m\u001b[34;1m\"typeDefinition\"\u001b[0m\u001b[1;39m: \u001b[0m\u001b[1;39m{\r\n",
      "            \u001b[0m\u001b[34;1m\"typeName\"\u001b[0m\u001b[1;39m: \u001b[0m\u001b[0;32m\"ddb:string\"\u001b[0m\u001b[1;39m,\r\n",
      "            \u001b[0m\u001b[34;1m\"typeConstraints\"\u001b[0m\u001b[1;39m: \u001b[0m\u001b[1;39m[\r\n",
      "              \u001b[1;39m{\r\n",
      "                \u001b[0m\u001b[34;1m\"constraintName\"\u001b[0m\u001b[1;39m: \u001b[0m\u001b[0;32m\"UTF8ByteLength\"\u001b[0m\u001b[1;39m,\r\n",
      "                \u001b[0m\u001b[34;1m\"constraintValue\"\u001b[0m\u001b[1;39m: \u001b[0m\u001b[0;32m\"[1, 2048]\"\u001b[0m\u001b[1;39m\r\n",
      "              \u001b[1;39m}\u001b[0m\u001b[1;39m,\r\n",
      "              \u001b[1;39m{\r\n",
      "                \u001b[0m\u001b[34;1m\"constraintName\"\u001b[0m\u001b[1;39m: \u001b[0m\u001b[0;32m\"Required\"\u001b[0m\u001b[1;39m,\r\n",
      "                \u001b[0m\u001b[34;1m\"constraintValue\"\u001b[0m\u001b[1;39m: \u001b[0m\u001b[0;32m\"ConstraintBoolean(value=true)\"\u001b[0m\u001b[1;39m\r\n",
      "              \u001b[1;39m}\u001b[0m\u001b[1;39m\r\n",
      "            \u001b[1;39m]\u001b[0m\u001b[1;39m\r\n",
      "          \u001b[1;39m}\u001b[0m\u001b[1;39m\r\n",
      "        \u001b[1;39m}\u001b[0m\u001b[1;39m\r\n",
      "      \u001b[1;39m]\u001b[0m\u001b[1;39m\r\n",
      "    \u001b[1;39m}\u001b[0m\u001b[1;39m,\r\n",
      "    \u001b[0m\u001b[34;1m\"createdTime\"\u001b[0m\u001b[1;39m: \u001b[0m\u001b[0;32m\"2021-06-14T12:05:16.201000+05:30\"\u001b[0m\u001b[1;39m,\r\n",
      "    \u001b[0m\u001b[34;1m\"lastUpdatedTime\"\u001b[0m\u001b[1;39m: \u001b[0m\u001b[0;32m\"2021-06-14T12:05:16.201000+05:30\"\u001b[0m\u001b[1;39m\r\n",
      "  \u001b[1;39m}\u001b[0m\u001b[1;39m\r\n",
      "\u001b[1;39m}\u001b[0m\r\n"
     ]
    }
   ],
   "source": [
    "!aws elasticviews create-view \\\n",
    "        --view-definition 'SELECT CAST(release_year AS int4), title FROM evfavoritemovies.favoritemovies' \\\n",
    "        --provenances \"release_year\" \"title\" \\\n",
    "        --view-name favoritemovies-view | jq . "
   ]
  },
  {
   "cell_type": "code",
   "execution_count": 15,
   "id": "bored-lunch",
   "metadata": {},
   "outputs": [],
   "source": [
    "viewArn = \"arn:aws:elasticviews:us-east-1:507922848584:view/favoritemovies-view-Gzwyrxov5Xk4aAY7Gyl3pu\""
   ]
  },
  {
   "cell_type": "markdown",
   "id": "devoted-method",
   "metadata": {},
   "source": [
    "### Activate the Elastic Views view"
   ]
  },
  {
   "cell_type": "code",
   "execution_count": 24,
   "id": "sunrise-shirt",
   "metadata": {},
   "outputs": [
    {
     "name": "stdout",
     "output_type": "stream",
     "text": [
      "\u001b[1;39m{\r\n",
      "  \u001b[0m\u001b[34;1m\"view\"\u001b[0m\u001b[1;39m: \u001b[0m\u001b[1;39m{\r\n",
      "    \u001b[0m\u001b[34;1m\"viewName\"\u001b[0m\u001b[1;39m: \u001b[0m\u001b[0;32m\"favoritemovies-view\"\u001b[0m\u001b[1;39m,\r\n",
      "    \u001b[0m\u001b[34;1m\"viewArn\"\u001b[0m\u001b[1;39m: \u001b[0m\u001b[0;32m\"arn:aws:elasticviews:us-east-1:507922848584:view/favoritemovies-view-Gzwyrxov5Xk4aAY7Gyl3pu\"\u001b[0m\u001b[1;39m,\r\n",
      "    \u001b[0m\u001b[34;1m\"viewDefinition\"\u001b[0m\u001b[1;39m: \u001b[0m\u001b[0;32m\"SELECT CAST(release_year AS int4), title FROM evfavoritemovies.favoritemovies\"\u001b[0m\u001b[1;39m,\r\n",
      "    \u001b[0m\u001b[34;1m\"provenances\"\u001b[0m\u001b[1;39m: \u001b[0m\u001b[1;39m[\r\n",
      "      \u001b[0;32m\"release_year\"\u001b[0m\u001b[1;39m,\r\n",
      "      \u001b[0;32m\"title\"\u001b[0m\u001b[1;39m\r\n",
      "    \u001b[1;39m]\u001b[0m\u001b[1;39m,\r\n",
      "    \u001b[0m\u001b[34;1m\"viewStatus\"\u001b[0m\u001b[1;39m: \u001b[0m\u001b[0;32m\"ACTIVE\"\u001b[0m\u001b[1;39m,\r\n",
      "    \u001b[0m\u001b[34;1m\"sourceOrViewArns\"\u001b[0m\u001b[1;39m: \u001b[0m\u001b[1;39m[\r\n",
      "      \u001b[0;32m\"arn:aws:elasticviews:us-east-1:507922848584:source/favoritemovies-1yQgYQbwge35SHdA1yrzTq\"\u001b[0m\u001b[1;39m\r\n",
      "    \u001b[1;39m]\u001b[0m\u001b[1;39m,\r\n",
      "    \u001b[0m\u001b[34;1m\"viewSchema\"\u001b[0m\u001b[1;39m: \u001b[0m\u001b[1;39m{\r\n",
      "      \u001b[0m\u001b[34;1m\"attributeSchemaList\"\u001b[0m\u001b[1;39m: \u001b[0m\u001b[1;39m[\r\n",
      "        \u001b[1;39m{\r\n",
      "          \u001b[0m\u001b[34;1m\"attributeName\"\u001b[0m\u001b[1;39m: \u001b[0m\u001b[0;32m\"release_year\"\u001b[0m\u001b[1;39m,\r\n",
      "          \u001b[0m\u001b[34;1m\"typeDefinition\"\u001b[0m\u001b[1;39m: \u001b[0m\u001b[1;39m{\r\n",
      "            \u001b[0m\u001b[34;1m\"typeName\"\u001b[0m\u001b[1;39m: \u001b[0m\u001b[0;32m\"int\"\u001b[0m\u001b[1;39m,\r\n",
      "            \u001b[0m\u001b[34;1m\"typeConstraints\"\u001b[0m\u001b[1;39m: \u001b[0m\u001b[1;39m[\r\n",
      "              \u001b[1;39m{\r\n",
      "                \u001b[0m\u001b[34;1m\"constraintName\"\u001b[0m\u001b[1;39m: \u001b[0m\u001b[0;32m\"ValidValues\"\u001b[0m\u001b[1;39m,\r\n",
      "                \u001b[0m\u001b[34;1m\"constraintValue\"\u001b[0m\u001b[1;39m: \u001b[0m\u001b[0;32m\"[-2147483648, 2147483647]\"\u001b[0m\u001b[1;39m\r\n",
      "              \u001b[1;39m}\u001b[0m\u001b[1;39m\r\n",
      "            \u001b[1;39m]\u001b[0m\u001b[1;39m\r\n",
      "          \u001b[1;39m}\u001b[0m\u001b[1;39m\r\n",
      "        \u001b[1;39m}\u001b[0m\u001b[1;39m,\r\n",
      "        \u001b[1;39m{\r\n",
      "          \u001b[0m\u001b[34;1m\"attributeName\"\u001b[0m\u001b[1;39m: \u001b[0m\u001b[0;32m\"title\"\u001b[0m\u001b[1;39m,\r\n",
      "          \u001b[0m\u001b[34;1m\"typeDefinition\"\u001b[0m\u001b[1;39m: \u001b[0m\u001b[1;39m{\r\n",
      "            \u001b[0m\u001b[34;1m\"typeName\"\u001b[0m\u001b[1;39m: \u001b[0m\u001b[0;32m\"ddb:string\"\u001b[0m\u001b[1;39m,\r\n",
      "            \u001b[0m\u001b[34;1m\"typeConstraints\"\u001b[0m\u001b[1;39m: \u001b[0m\u001b[1;39m[\r\n",
      "              \u001b[1;39m{\r\n",
      "                \u001b[0m\u001b[34;1m\"constraintName\"\u001b[0m\u001b[1;39m: \u001b[0m\u001b[0;32m\"UTF8ByteLength\"\u001b[0m\u001b[1;39m,\r\n",
      "                \u001b[0m\u001b[34;1m\"constraintValue\"\u001b[0m\u001b[1;39m: \u001b[0m\u001b[0;32m\"[1, 2048]\"\u001b[0m\u001b[1;39m\r\n",
      "              \u001b[1;39m}\u001b[0m\u001b[1;39m,\r\n",
      "              \u001b[1;39m{\r\n",
      "                \u001b[0m\u001b[34;1m\"constraintName\"\u001b[0m\u001b[1;39m: \u001b[0m\u001b[0;32m\"Required\"\u001b[0m\u001b[1;39m,\r\n",
      "                \u001b[0m\u001b[34;1m\"constraintValue\"\u001b[0m\u001b[1;39m: \u001b[0m\u001b[0;32m\"ConstraintBoolean(value=true)\"\u001b[0m\u001b[1;39m\r\n",
      "              \u001b[1;39m}\u001b[0m\u001b[1;39m\r\n",
      "            \u001b[1;39m]\u001b[0m\u001b[1;39m\r\n",
      "          \u001b[1;39m}\u001b[0m\u001b[1;39m\r\n",
      "        \u001b[1;39m}\u001b[0m\u001b[1;39m\r\n",
      "      \u001b[1;39m]\u001b[0m\u001b[1;39m\r\n",
      "    \u001b[1;39m}\u001b[0m\u001b[1;39m,\r\n",
      "    \u001b[0m\u001b[34;1m\"createdTime\"\u001b[0m\u001b[1;39m: \u001b[0m\u001b[0;32m\"2021-06-14T12:05:16.201000+05:30\"\u001b[0m\u001b[1;39m,\r\n",
      "    \u001b[0m\u001b[34;1m\"lastUpdatedTime\"\u001b[0m\u001b[1;39m: \u001b[0m\u001b[0;32m\"2021-06-14T12:06:32.817000+05:30\"\u001b[0m\u001b[1;39m\r\n",
      "  \u001b[1;39m}\u001b[0m\u001b[1;39m\r\n",
      "\u001b[1;39m}\u001b[0m\r\n"
     ]
    }
   ],
   "source": [
    "!aws elasticviews start-view \\\n",
    "    --view-identifier {viewArn} | jq . "
   ]
  },
  {
   "cell_type": "markdown",
   "id": "painted-poverty",
   "metadata": {},
   "source": [
    "### Check the status of the Elastic Views view"
   ]
  },
  {
   "cell_type": "code",
   "execution_count": 25,
   "id": "endless-marshall",
   "metadata": {},
   "outputs": [
    {
     "name": "stdout",
     "output_type": "stream",
     "text": [
      "\u001b[1;39m{\r\n",
      "  \u001b[0m\u001b[34;1m\"view\"\u001b[0m\u001b[1;39m: \u001b[0m\u001b[1;39m{\r\n",
      "    \u001b[0m\u001b[34;1m\"viewName\"\u001b[0m\u001b[1;39m: \u001b[0m\u001b[0;32m\"favoritemovies-view\"\u001b[0m\u001b[1;39m,\r\n",
      "    \u001b[0m\u001b[34;1m\"viewArn\"\u001b[0m\u001b[1;39m: \u001b[0m\u001b[0;32m\"arn:aws:elasticviews:us-east-1:507922848584:view/favoritemovies-view-Gzwyrxov5Xk4aAY7Gyl3pu\"\u001b[0m\u001b[1;39m,\r\n",
      "    \u001b[0m\u001b[34;1m\"viewDefinition\"\u001b[0m\u001b[1;39m: \u001b[0m\u001b[0;32m\"SELECT CAST(release_year AS int4), title FROM evfavoritemovies.favoritemovies\"\u001b[0m\u001b[1;39m,\r\n",
      "    \u001b[0m\u001b[34;1m\"provenances\"\u001b[0m\u001b[1;39m: \u001b[0m\u001b[1;39m[\r\n",
      "      \u001b[0;32m\"release_year\"\u001b[0m\u001b[1;39m,\r\n",
      "      \u001b[0;32m\"title\"\u001b[0m\u001b[1;39m\r\n",
      "    \u001b[1;39m]\u001b[0m\u001b[1;39m,\r\n",
      "    \u001b[0m\u001b[34;1m\"viewStatus\"\u001b[0m\u001b[1;39m: \u001b[0m\u001b[0;32m\"ACTIVE\"\u001b[0m\u001b[1;39m,\r\n",
      "    \u001b[0m\u001b[34;1m\"sourceOrViewArns\"\u001b[0m\u001b[1;39m: \u001b[0m\u001b[1;39m[\r\n",
      "      \u001b[0;32m\"arn:aws:elasticviews:us-east-1:507922848584:source/favoritemovies-1yQgYQbwge35SHdA1yrzTq\"\u001b[0m\u001b[1;39m\r\n",
      "    \u001b[1;39m]\u001b[0m\u001b[1;39m,\r\n",
      "    \u001b[0m\u001b[34;1m\"viewSchema\"\u001b[0m\u001b[1;39m: \u001b[0m\u001b[1;39m{\r\n",
      "      \u001b[0m\u001b[34;1m\"attributeSchemaList\"\u001b[0m\u001b[1;39m: \u001b[0m\u001b[1;39m[\r\n",
      "        \u001b[1;39m{\r\n",
      "          \u001b[0m\u001b[34;1m\"attributeName\"\u001b[0m\u001b[1;39m: \u001b[0m\u001b[0;32m\"release_year\"\u001b[0m\u001b[1;39m,\r\n",
      "          \u001b[0m\u001b[34;1m\"typeDefinition\"\u001b[0m\u001b[1;39m: \u001b[0m\u001b[1;39m{\r\n",
      "            \u001b[0m\u001b[34;1m\"typeName\"\u001b[0m\u001b[1;39m: \u001b[0m\u001b[0;32m\"int\"\u001b[0m\u001b[1;39m,\r\n",
      "            \u001b[0m\u001b[34;1m\"typeConstraints\"\u001b[0m\u001b[1;39m: \u001b[0m\u001b[1;39m[\r\n",
      "              \u001b[1;39m{\r\n",
      "                \u001b[0m\u001b[34;1m\"constraintName\"\u001b[0m\u001b[1;39m: \u001b[0m\u001b[0;32m\"ValidValues\"\u001b[0m\u001b[1;39m,\r\n",
      "                \u001b[0m\u001b[34;1m\"constraintValue\"\u001b[0m\u001b[1;39m: \u001b[0m\u001b[0;32m\"[-2147483648, 2147483647]\"\u001b[0m\u001b[1;39m\r\n",
      "              \u001b[1;39m}\u001b[0m\u001b[1;39m\r\n",
      "            \u001b[1;39m]\u001b[0m\u001b[1;39m\r\n",
      "          \u001b[1;39m}\u001b[0m\u001b[1;39m\r\n",
      "        \u001b[1;39m}\u001b[0m\u001b[1;39m,\r\n",
      "        \u001b[1;39m{\r\n",
      "          \u001b[0m\u001b[34;1m\"attributeName\"\u001b[0m\u001b[1;39m: \u001b[0m\u001b[0;32m\"title\"\u001b[0m\u001b[1;39m,\r\n",
      "          \u001b[0m\u001b[34;1m\"typeDefinition\"\u001b[0m\u001b[1;39m: \u001b[0m\u001b[1;39m{\r\n",
      "            \u001b[0m\u001b[34;1m\"typeName\"\u001b[0m\u001b[1;39m: \u001b[0m\u001b[0;32m\"ddb:string\"\u001b[0m\u001b[1;39m,\r\n",
      "            \u001b[0m\u001b[34;1m\"typeConstraints\"\u001b[0m\u001b[1;39m: \u001b[0m\u001b[1;39m[\r\n",
      "              \u001b[1;39m{\r\n",
      "                \u001b[0m\u001b[34;1m\"constraintName\"\u001b[0m\u001b[1;39m: \u001b[0m\u001b[0;32m\"UTF8ByteLength\"\u001b[0m\u001b[1;39m,\r\n",
      "                \u001b[0m\u001b[34;1m\"constraintValue\"\u001b[0m\u001b[1;39m: \u001b[0m\u001b[0;32m\"[1, 2048]\"\u001b[0m\u001b[1;39m\r\n",
      "              \u001b[1;39m}\u001b[0m\u001b[1;39m,\r\n",
      "              \u001b[1;39m{\r\n",
      "                \u001b[0m\u001b[34;1m\"constraintName\"\u001b[0m\u001b[1;39m: \u001b[0m\u001b[0;32m\"Required\"\u001b[0m\u001b[1;39m,\r\n",
      "                \u001b[0m\u001b[34;1m\"constraintValue\"\u001b[0m\u001b[1;39m: \u001b[0m\u001b[0;32m\"ConstraintBoolean(value=true)\"\u001b[0m\u001b[1;39m\r\n",
      "              \u001b[1;39m}\u001b[0m\u001b[1;39m\r\n",
      "            \u001b[1;39m]\u001b[0m\u001b[1;39m\r\n",
      "          \u001b[1;39m}\u001b[0m\u001b[1;39m\r\n",
      "        \u001b[1;39m}\u001b[0m\u001b[1;39m\r\n",
      "      \u001b[1;39m]\u001b[0m\u001b[1;39m\r\n",
      "    \u001b[1;39m}\u001b[0m\u001b[1;39m,\r\n",
      "    \u001b[0m\u001b[34;1m\"createdTime\"\u001b[0m\u001b[1;39m: \u001b[0m\u001b[0;32m\"2021-06-14T12:05:16.201000+05:30\"\u001b[0m\u001b[1;39m,\r\n",
      "    \u001b[0m\u001b[34;1m\"lastUpdatedTime\"\u001b[0m\u001b[1;39m: \u001b[0m\u001b[0;32m\"2021-06-14T12:06:32.817000+05:30\"\u001b[0m\u001b[1;39m\r\n",
      "  \u001b[1;39m}\u001b[0m\u001b[1;39m\r\n",
      "\u001b[1;39m}\u001b[0m\r\n"
     ]
    }
   ],
   "source": [
    "!aws elasticviews describe-view \\\n",
    "    --view-identifier {viewArn} | jq . "
   ]
  },
  {
   "cell_type": "markdown",
   "id": "fleet-flooring",
   "metadata": {},
   "source": [
    "<img src=\"img/img5.png\">"
   ]
  },
  {
   "cell_type": "markdown",
   "id": "optical-crisis",
   "metadata": {},
   "source": [
    "# Step 3: Create a `Redshift` cluster (`TARGET`)"
   ]
  },
  {
   "cell_type": "markdown",
   "id": "favorite-mixer",
   "metadata": {},
   "source": [
    "- We have already created a [Redshift Cluster](https://console.aws.amazon.com/redshiftv2/home?region=us-east-1#cluster-details?cluster=redshift-cluster-2) (Let's check via the UI console)"
   ]
  },
  {
   "cell_type": "markdown",
   "id": "relative-doctrine",
   "metadata": {},
   "source": [
    "# Step 4: Materialization in Amazon Redshift"
   ]
  },
  {
   "cell_type": "markdown",
   "id": "rocky-caribbean",
   "metadata": {},
   "source": [
    "Lets open back to `DataGrip` and connect to our `Redshift` cluster"
   ]
  },
  {
   "cell_type": "code",
   "execution_count": 26,
   "id": "mexican-november",
   "metadata": {},
   "outputs": [
    {
     "name": "stdout",
     "output_type": "stream",
     "text": [
      "arn:aws:elasticviews:us-east-1:507922848584:view/favoritemovies-view-Gzwyrxov5Xk4aAY7Gyl3pu\n"
     ]
    }
   ],
   "source": [
    "print(viewArn) # We need this while we `CREATE MATERIALIZED VIEW`"
   ]
  },
  {
   "cell_type": "markdown",
   "id": "dangerous-shirt",
   "metadata": {},
   "source": [
    "<img src=\"img/img6.png\">"
   ]
  },
  {
   "cell_type": "markdown",
   "id": "atomic-limit",
   "metadata": {},
   "source": [
    "### Put some new `item` in the Table: "
   ]
  },
  {
   "cell_type": "code",
   "execution_count": 27,
   "id": "comparable-preliminary",
   "metadata": {},
   "outputs": [],
   "source": [
    "!aws dynamodb put-item \\\n",
    "    --table-name favoritemovies  \\\n",
    "    --item \\\n",
    "        '{\"title\": {\"S\": \"DDLJ\"}, \"release_year\": {\"N\": \"1995\"}}'"
   ]
  },
  {
   "cell_type": "markdown",
   "id": "julian-andrews",
   "metadata": {},
   "source": [
    "### Run `scan` to check that the data is added to the table \n"
   ]
  },
  {
   "cell_type": "code",
   "execution_count": 28,
   "id": "angry-biology",
   "metadata": {},
   "outputs": [
    {
     "name": "stdout",
     "output_type": "stream",
     "text": [
      "\u001b[1;39m{\r\n",
      "  \u001b[0m\u001b[34;1m\"Items\"\u001b[0m\u001b[1;39m: \u001b[0m\u001b[1;39m[\r\n",
      "    \u001b[1;39m{\r\n",
      "      \u001b[0m\u001b[34;1m\"release_year\"\u001b[0m\u001b[1;39m: \u001b[0m\u001b[1;39m{\r\n",
      "        \u001b[0m\u001b[34;1m\"N\"\u001b[0m\u001b[1;39m: \u001b[0m\u001b[0;32m\"2008\"\u001b[0m\u001b[1;39m\r\n",
      "      \u001b[1;39m}\u001b[0m\u001b[1;39m,\r\n",
      "      \u001b[0m\u001b[34;1m\"title\"\u001b[0m\u001b[1;39m: \u001b[0m\u001b[1;39m{\r\n",
      "        \u001b[0m\u001b[34;1m\"S\"\u001b[0m\u001b[1;39m: \u001b[0m\u001b[0;32m\"The Dark Knight\"\u001b[0m\u001b[1;39m\r\n",
      "      \u001b[1;39m}\u001b[0m\u001b[1;39m\r\n",
      "    \u001b[1;39m}\u001b[0m\u001b[1;39m,\r\n",
      "    \u001b[1;39m{\r\n",
      "      \u001b[0m\u001b[34;1m\"release_year\"\u001b[0m\u001b[1;39m: \u001b[0m\u001b[1;39m{\r\n",
      "        \u001b[0m\u001b[34;1m\"N\"\u001b[0m\u001b[1;39m: \u001b[0m\u001b[0;32m\"2010\"\u001b[0m\u001b[1;39m\r\n",
      "      \u001b[1;39m}\u001b[0m\u001b[1;39m,\r\n",
      "      \u001b[0m\u001b[34;1m\"title\"\u001b[0m\u001b[1;39m: \u001b[0m\u001b[1;39m{\r\n",
      "        \u001b[0m\u001b[34;1m\"S\"\u001b[0m\u001b[1;39m: \u001b[0m\u001b[0;32m\"Inception\"\u001b[0m\u001b[1;39m\r\n",
      "      \u001b[1;39m}\u001b[0m\u001b[1;39m\r\n",
      "    \u001b[1;39m}\u001b[0m\u001b[1;39m,\r\n",
      "    \u001b[1;39m{\r\n",
      "      \u001b[0m\u001b[34;1m\"release_year\"\u001b[0m\u001b[1;39m: \u001b[0m\u001b[1;39m{\r\n",
      "        \u001b[0m\u001b[34;1m\"N\"\u001b[0m\u001b[1;39m: \u001b[0m\u001b[0;32m\"1995\"\u001b[0m\u001b[1;39m\r\n",
      "      \u001b[1;39m}\u001b[0m\u001b[1;39m,\r\n",
      "      \u001b[0m\u001b[34;1m\"title\"\u001b[0m\u001b[1;39m: \u001b[0m\u001b[1;39m{\r\n",
      "        \u001b[0m\u001b[34;1m\"S\"\u001b[0m\u001b[1;39m: \u001b[0m\u001b[0;32m\"DDLJ\"\u001b[0m\u001b[1;39m\r\n",
      "      \u001b[1;39m}\u001b[0m\u001b[1;39m\r\n",
      "    \u001b[1;39m}\u001b[0m\u001b[1;39m,\r\n",
      "    \u001b[1;39m{\r\n",
      "      \u001b[0m\u001b[34;1m\"release_year\"\u001b[0m\u001b[1;39m: \u001b[0m\u001b[1;39m{\r\n",
      "        \u001b[0m\u001b[34;1m\"N\"\u001b[0m\u001b[1;39m: \u001b[0m\u001b[0;32m\"2016\"\u001b[0m\u001b[1;39m\r\n",
      "      \u001b[1;39m}\u001b[0m\u001b[1;39m,\r\n",
      "      \u001b[0m\u001b[34;1m\"title\"\u001b[0m\u001b[1;39m: \u001b[0m\u001b[1;39m{\r\n",
      "        \u001b[0m\u001b[34;1m\"S\"\u001b[0m\u001b[1;39m: \u001b[0m\u001b[0;32m\"Moonlight\"\u001b[0m\u001b[1;39m\r\n",
      "      \u001b[1;39m}\u001b[0m\u001b[1;39m\r\n",
      "    \u001b[1;39m}\u001b[0m\u001b[1;39m\r\n",
      "  \u001b[1;39m]\u001b[0m\u001b[1;39m,\r\n",
      "  \u001b[0m\u001b[34;1m\"Count\"\u001b[0m\u001b[1;39m: \u001b[0m\u001b[0;39m4\u001b[0m\u001b[1;39m,\r\n",
      "  \u001b[0m\u001b[34;1m\"ScannedCount\"\u001b[0m\u001b[1;39m: \u001b[0m\u001b[0;39m4\u001b[0m\u001b[1;39m,\r\n",
      "  \u001b[0m\u001b[34;1m\"ConsumedCapacity\"\u001b[0m\u001b[1;39m: \u001b[0m\u001b[1;30mnull\u001b[0m\u001b[1;39m\r\n",
      "\u001b[1;39m}\u001b[0m\r\n"
     ]
    }
   ],
   "source": [
    "!aws dynamodb scan --table-name favoritemovies |jq . \n"
   ]
  },
  {
   "cell_type": "markdown",
   "id": "floating-service",
   "metadata": {},
   "source": [
    "# Step 5: Query Amazon `Redshift`"
   ]
  },
  {
   "cell_type": "markdown",
   "id": "frozen-judge",
   "metadata": {},
   "source": [
    "- Lets go back to `DataGrip` and run some query"
   ]
  },
  {
   "cell_type": "markdown",
   "id": "composed-table",
   "metadata": {},
   "source": [
    "# Cleanup"
   ]
  },
  {
   "cell_type": "markdown",
   "id": "diverse-yield",
   "metadata": {},
   "source": [
    "- From `Redshift` Cluster \n",
    "\n",
    "    - DROP MATERIALIZED VIEW favoritemovies_mv;\n",
    "\n",
    "    - DROP SCHEMA ev_schema\n",
    "    \n",
    "\n",
    "- From `ElasticView` UI\n",
    "\n",
    "    - Deactivate View\n",
    "\n",
    "    - Delete View\n",
    "\n",
    "    - Deactivate Table(source)\n",
    "\n",
    "    - Delete Table(source)\n",
    "\n",
    "\n",
    "- From `DynamoDB` UI\n",
    "\n",
    "    - Delete the table"
   ]
  },
  {
   "cell_type": "code",
   "execution_count": null,
   "id": "waiting-highlight",
   "metadata": {},
   "outputs": [],
   "source": []
  }
 ],
 "metadata": {
  "kernelspec": {
   "display_name": "Python 3",
   "language": "python",
   "name": "python3"
  },
  "language_info": {
   "codemirror_mode": {
    "name": "ipython",
    "version": 3
   },
   "file_extension": ".py",
   "mimetype": "text/x-python",
   "name": "python",
   "nbconvert_exporter": "python",
   "pygments_lexer": "ipython3",
   "version": "3.8.3"
  },
  "varInspector": {
   "cols": {
    "lenName": 16,
    "lenType": 16,
    "lenVar": 40
   },
   "kernels_config": {
    "python": {
     "delete_cmd_postfix": "",
     "delete_cmd_prefix": "del ",
     "library": "var_list.py",
     "varRefreshCmd": "print(var_dic_list())"
    },
    "r": {
     "delete_cmd_postfix": ") ",
     "delete_cmd_prefix": "rm(",
     "library": "var_list.r",
     "varRefreshCmd": "cat(var_dic_list()) "
    }
   },
   "types_to_exclude": [
    "module",
    "function",
    "builtin_function_or_method",
    "instance",
    "_Feature"
   ],
   "window_display": false
  }
 },
 "nbformat": 4,
 "nbformat_minor": 5
}
