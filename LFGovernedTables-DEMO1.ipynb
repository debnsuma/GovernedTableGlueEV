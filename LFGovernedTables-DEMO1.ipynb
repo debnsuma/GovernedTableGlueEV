{
 "cells": [
  {
   "cell_type": "markdown",
   "id": "appreciated-plumbing",
   "metadata": {},
   "source": [
    "# Configuring Lake Formation permissions\n",
    "\n",
    "- For the `DatalakeAdmin` and `DataAnalyst` user"
   ]
  },
  {
   "cell_type": "markdown",
   "id": "charming-tuning",
   "metadata": {},
   "source": [
    "# Setting up a `governed` table"
   ]
  },
  {
   "cell_type": "markdown",
   "id": "relevant-introduction",
   "metadata": {},
   "source": [
    "- Sign in to the Lake Formation console in us-east-1 Region using the `DatalakeAdmin` user.\n",
    "- Create a `governed table`"
   ]
  },
  {
   "cell_type": "markdown",
   "id": "hawaiian-rider",
   "metadata": {},
   "source": [
    "# Dataset"
   ]
  },
  {
   "cell_type": "markdown",
   "id": "disabled-powell",
   "metadata": {},
   "source": [
    "Amazon Review: https://s3.amazonaws.com/amazon-reviews-pds/tsv/index.txt"
   ]
  },
  {
   "cell_type": "markdown",
   "id": "noticed-degree",
   "metadata": {},
   "source": [
    "# Start a new transaction with the `StartTransaction` API"
   ]
  },
  {
   "cell_type": "code",
   "execution_count": 16,
   "id": "beautiful-webmaster",
   "metadata": {},
   "outputs": [
    {
     "name": "stdout",
     "output_type": "stream",
     "text": [
      "{\r\n",
      "    \"TransactionId\": \"a8f6a568d8f940c292fb3c230d26d1a5\"\r\n",
      "}\r\n"
     ]
    }
   ],
   "source": [
    "!aws lakeformation-preview start-transaction --profile datalake-admin"
   ]
  },
  {
   "cell_type": "code",
   "execution_count": 17,
   "id": "resident-speech",
   "metadata": {},
   "outputs": [],
   "source": [
    "TransactionId = \"a8f6a568d8f940c292fb3c230d26d1a5\""
   ]
  },
  {
   "cell_type": "markdown",
   "id": "imperial-sigma",
   "metadata": {},
   "source": [
    "# Add files to this table within this transaction"
   ]
  },
  {
   "cell_type": "code",
   "execution_count": 21,
   "id": "filled-friendly",
   "metadata": {
    "scrolled": true
   },
   "outputs": [
    {
     "name": "stdout",
     "output_type": "stream",
     "text": [
      "2018-04-09 12:09:59  127618720 part-00000-495c48e6-96d6-4650-aa65-3c36a3516ddd.c000.snappy.parquet\r\n",
      "2018-04-09 12:10:00  126730698 part-00001-495c48e6-96d6-4650-aa65-3c36a3516ddd.c000.snappy.parquet\r\n",
      "2018-04-09 12:10:00  126498030 part-00002-495c48e6-96d6-4650-aa65-3c36a3516ddd.c000.snappy.parquet\r\n",
      "2018-04-09 12:10:00  126542895 part-00003-495c48e6-96d6-4650-aa65-3c36a3516ddd.c000.snappy.parquet\r\n",
      "2018-04-09 12:10:00  127220750 part-00004-495c48e6-96d6-4650-aa65-3c36a3516ddd.c000.snappy.parquet\r\n",
      "2018-04-09 12:10:02  126628389 part-00005-495c48e6-96d6-4650-aa65-3c36a3516ddd.c000.snappy.parquet\r\n",
      "2018-04-09 12:10:03  126315331 part-00006-495c48e6-96d6-4650-aa65-3c36a3516ddd.c000.snappy.parquet\r\n",
      "2018-04-09 12:10:03  126832082 part-00007-495c48e6-96d6-4650-aa65-3c36a3516ddd.c000.snappy.parquet\r\n",
      "2018-04-09 12:10:03  126929544 part-00008-495c48e6-96d6-4650-aa65-3c36a3516ddd.c000.snappy.parquet\r\n",
      "2018-04-09 12:10:03  126858343 part-00009-495c48e6-96d6-4650-aa65-3c36a3516ddd.c000.snappy.parquet\r\n"
     ]
    }
   ],
   "source": [
    "!aws s3 ls s3://amazon-reviews-pds/parquet/product_category=Toys/"
   ]
  },
  {
   "cell_type": "code",
   "execution_count": 3,
   "id": "regulation-angel",
   "metadata": {},
   "outputs": [],
   "source": [
    "some_file = \"part-00001-495c48e6-96d6-4650-aa65-3c36a3516ddd.c000.snappy.parquet\""
   ]
  },
  {
   "cell_type": "code",
   "execution_count": 4,
   "id": "stable-conference",
   "metadata": {},
   "outputs": [
    {
     "name": "stdout",
     "output_type": "stream",
     "text": [
      "\u001b[1;39m{\r\n",
      "  \u001b[0m\u001b[34;1m\"AcceptRanges\"\u001b[0m\u001b[1;39m: \u001b[0m\u001b[0;32m\"bytes\"\u001b[0m\u001b[1;39m,\r\n",
      "  \u001b[0m\u001b[34;1m\"LastModified\"\u001b[0m\u001b[1;39m: \u001b[0m\u001b[0;32m\"2018-04-09T06:40:00+00:00\"\u001b[0m\u001b[1;39m,\r\n",
      "  \u001b[0m\u001b[34;1m\"ContentLength\"\u001b[0m\u001b[1;39m: \u001b[0m\u001b[0;39m126730698\u001b[0m\u001b[1;39m,\r\n",
      "  \u001b[0m\u001b[34;1m\"ETag\"\u001b[0m\u001b[1;39m: \u001b[0m\u001b[0;32m\"\\\"5177d6a3e64ec024dd650c2f1ccc9a3f-16\\\"\"\u001b[0m\u001b[1;39m,\r\n",
      "  \u001b[0m\u001b[34;1m\"ContentType\"\u001b[0m\u001b[1;39m: \u001b[0m\u001b[0;32m\"binary/octet-stream\"\u001b[0m\u001b[1;39m,\r\n",
      "  \u001b[0m\u001b[34;1m\"Metadata\"\u001b[0m\u001b[1;39m: \u001b[0m\u001b[1;39m{}\u001b[0m\u001b[1;39m\r\n",
      "\u001b[1;39m}\u001b[0m\r\n"
     ]
    }
   ],
   "source": [
    "!aws s3api head-object --bucket amazon-reviews-pds --key parquet/product_category=Toys/{some_file} | jq . "
   ]
  },
  {
   "cell_type": "markdown",
   "id": "orange-volunteer",
   "metadata": {},
   "source": [
    "Create a new file named `write-operations1.json` and enter the following JSON: (replace `Uri`, `ETag`, and `Size` with the values you copied)"
   ]
  },
  {
   "cell_type": "code",
   "execution_count": 1,
   "id": "collect-warrant",
   "metadata": {},
   "outputs": [
    {
     "name": "stdout",
     "output_type": "stream",
     "text": [
      "\u001b[1;39m[\r\n",
      "  \u001b[1;39m{\r\n",
      "    \u001b[0m\u001b[34;1m\"AddObject\"\u001b[0m\u001b[1;39m: \u001b[0m\u001b[1;39m{\r\n",
      "      \u001b[0m\u001b[34;1m\"Uri\"\u001b[0m\u001b[1;39m: \u001b[0m\u001b[0;32m\"s3://amazon-reviews-pds/parquet/product_category=Toys/part-00001-495c48e6-96d6-4650-aa65-3c36a3516ddd.c000.snappy.parquet\"\u001b[0m\u001b[1;39m,\r\n",
      "      \u001b[0m\u001b[34;1m\"ETag\"\u001b[0m\u001b[1;39m: \u001b[0m\u001b[0;32m\"5177d6a3e64ec024dd650c2f1ccc9a3f-16\"\u001b[0m\u001b[1;39m,\r\n",
      "      \u001b[0m\u001b[34;1m\"Size\"\u001b[0m\u001b[1;39m: \u001b[0m\u001b[0;39m126730698\u001b[0m\u001b[1;39m,\r\n",
      "      \u001b[0m\u001b[34;1m\"PartitionValues\"\u001b[0m\u001b[1;39m: \u001b[0m\u001b[1;39m[\r\n",
      "        \u001b[0;32m\"Toys\"\u001b[0m\u001b[1;39m\r\n",
      "      \u001b[1;39m]\u001b[0m\u001b[1;39m\r\n",
      "    \u001b[1;39m}\u001b[0m\u001b[1;39m\r\n",
      "  \u001b[1;39m}\u001b[0m\u001b[1;39m\r\n",
      "\u001b[1;39m]\u001b[0m\r\n"
     ]
    }
   ],
   "source": [
    "!cat write-operations1.json | jq . "
   ]
  },
  {
   "cell_type": "markdown",
   "id": "awful-nylon",
   "metadata": {},
   "source": [
    "## Add file to the governed table using the `write-operations1.json`"
   ]
  },
  {
   "cell_type": "markdown",
   "id": "friendly-manhattan",
   "metadata": {},
   "source": [
    "### a) `update-table-objects` API "
   ]
  },
  {
   "cell_type": "code",
   "execution_count": 25,
   "id": "conventional-agent",
   "metadata": {},
   "outputs": [],
   "source": [
    "!aws lakeformation-preview update-table-objects \\\n",
    "                        --database-name lakeformation_tutorial_amazon_reviews  \\\n",
    "                        --table-name amazon_reviews_governed --transaction-id {TransactionId} \\\n",
    "                        --write-operations file://./write-operations1.json --profile datalake-admin\n"
   ]
  },
  {
   "cell_type": "markdown",
   "id": "widespread-promise",
   "metadata": {},
   "source": [
    "### b) `get-table-objects` API "
   ]
  },
  {
   "cell_type": "code",
   "execution_count": 26,
   "id": "appreciated-mandate",
   "metadata": {},
   "outputs": [
    {
     "name": "stdout",
     "output_type": "stream",
     "text": [
      "{\r\n",
      "    \"Objects\": [\r\n",
      "        {\r\n",
      "            \"PartitionValues\": [\r\n",
      "                \"Books\"\r\n",
      "            ],\r\n",
      "            \"Objects\": [\r\n",
      "                {\r\n",
      "                    \"Uri\": \"s3://amazon-reviews-pds/parquet/product_category=Books/part-00000-495c48e6-96d6-4650-aa65-3c36a3516ddd.c000.snappy.parquet\",\r\n",
      "                    \"ETag\": \"9805c2c9a0459ccf337e01dc727f8efc-131\",\r\n",
      "                    \"Size\": 1094842361\r\n",
      "                }\r\n",
      "            ]\r\n",
      "        },\r\n",
      "        {\r\n",
      "            \"PartitionValues\": [\r\n",
      "                \"Camera\"\r\n",
      "            ],\r\n",
      "            \"Objects\": [\r\n",
      "                {\r\n",
      "                    \"Uri\": \"s3://amazon-reviews-pds/parquet/product_category=Camera/part-00000-495c48e6-96d6-4650-aa65-3c36a3516ddd.c000.snappy.parquet\",\r\n",
      "                    \"ETag\": \"d4c25c40f33071620fb31cf0346ed2ec-8\",\r\n",
      "                    \"Size\": 65386769\r\n",
      "                }\r\n",
      "            ]\r\n",
      "        },\r\n",
      "        {\r\n",
      "            \"PartitionValues\": [\r\n",
      "                \"Toys\"\r\n",
      "            ],\r\n",
      "            \"Objects\": [\r\n",
      "                {\r\n",
      "                    \"Uri\": \"s3://amazon-reviews-pds/parquet/product_category=Toys/part-00001-495c48e6-96d6-4650-aa65-3c36a3516ddd.c000.snappy.parquet\",\r\n",
      "                    \"ETag\": \"5177d6a3e64ec024dd650c2f1ccc9a3f-16\",\r\n",
      "                    \"Size\": 126730698\r\n",
      "                }\r\n",
      "            ]\r\n",
      "        }\r\n",
      "    ]\r\n",
      "}\r\n"
     ]
    }
   ],
   "source": [
    "!aws lakeformation-preview get-table-objects \\\n",
    "                        --database-name lakeformation_tutorial_amazon_reviews  \\\n",
    "                        --table-name amazon_reviews_governed --transaction-id {TransactionId} --profile datalake-admin"
   ]
  },
  {
   "cell_type": "markdown",
   "id": "genuine-handy",
   "metadata": {},
   "source": [
    "## Commit the transaction"
   ]
  },
  {
   "cell_type": "code",
   "execution_count": 31,
   "id": "greenhouse-equality",
   "metadata": {},
   "outputs": [],
   "source": [
    "!aws lakeformation-preview commit-transaction \\ \n",
    "                        --transaction-id {TransactionId} \n",
    "                        --profile datalake-admin\n"
   ]
  },
  {
   "cell_type": "markdown",
   "id": "opposite-watts",
   "metadata": {},
   "source": [
    "# Start another new transaction with the `StartTransaction` API"
   ]
  },
  {
   "cell_type": "code",
   "execution_count": 32,
   "id": "local-tribute",
   "metadata": {},
   "outputs": [
    {
     "name": "stdout",
     "output_type": "stream",
     "text": [
      "{\r\n",
      "    \"TransactionId\": \"a5c94da8ce2d475babb3d0c435592529\"\r\n",
      "}\r\n"
     ]
    }
   ],
   "source": [
    "!aws lakeformation-preview start-transaction --profile datalake-admin"
   ]
  },
  {
   "cell_type": "code",
   "execution_count": 34,
   "id": "aggressive-tobago",
   "metadata": {},
   "outputs": [],
   "source": [
    "TransactionId = \"a5c94da8ce2d475babb3d0c435592529\""
   ]
  },
  {
   "cell_type": "markdown",
   "id": "patent-compression",
   "metadata": {},
   "source": [
    "# Add files to this table within this transaction"
   ]
  },
  {
   "cell_type": "code",
   "execution_count": 35,
   "id": "electric-outreach",
   "metadata": {},
   "outputs": [
    {
     "name": "stdout",
     "output_type": "stream",
     "text": [
      "2018-04-09 12:08:54  295413373 part-00000-495c48e6-96d6-4650-aa65-3c36a3516ddd.c000.snappy.parquet\n",
      "2018-04-09 12:08:54  290061737 part-00001-495c48e6-96d6-4650-aa65-3c36a3516ddd.c000.snappy.parquet\n",
      "2018-04-09 12:08:54  291400775 part-00002-495c48e6-96d6-4650-aa65-3c36a3516ddd.c000.snappy.parquet\n",
      "2018-04-09 12:08:54  293260391 part-00003-495c48e6-96d6-4650-aa65-3c36a3516ddd.c000.snappy.parquet\n",
      "2018-04-09 12:08:55  292661147 part-00004-495c48e6-96d6-4650-aa65-3c36a3516ddd.c000.snappy.parquet\n",
      "2018-04-09 12:09:02  290476651 part-00005-495c48e6-96d6-4650-aa65-3c36a3516ddd.c000.snappy.parquet\n",
      "2018-04-09 12:09:02  291893173 part-00006-495c48e6-96d6-4650-aa65-3c36a3516ddd.c000.snappy.parquet\n",
      "2018-04-09 12:09:02  295227211 part-00007-495c48e6-96d6-4650-aa65-3c36a3516ddd.c000.snappy.parquet\n",
      "2018-04-09 12:09:02  289890232 part-00008-495c48e6-96d6-4650-aa65-3c36a3516ddd.c000.snappy.parquet\n",
      "2018-04-09 12:09:03  295334612 part-00009-495c48e6-96d6-4650-aa65-3c36a3516ddd.c000.snappy.parquet\n"
     ]
    }
   ],
   "source": [
    "!aws s3 ls s3://amazon-reviews-pds/parquet/product_category=Music/\n"
   ]
  },
  {
   "cell_type": "code",
   "execution_count": 6,
   "id": "clinical-brunei",
   "metadata": {},
   "outputs": [],
   "source": [
    "some_file = \"part-00001-495c48e6-96d6-4650-aa65-3c36a3516ddd.c000.snappy.parquet\""
   ]
  },
  {
   "cell_type": "code",
   "execution_count": 8,
   "id": "dimensional-canyon",
   "metadata": {},
   "outputs": [
    {
     "name": "stdout",
     "output_type": "stream",
     "text": [
      "\u001b[1;39m{\r\n",
      "  \u001b[0m\u001b[34;1m\"AcceptRanges\"\u001b[0m\u001b[1;39m: \u001b[0m\u001b[0;32m\"bytes\"\u001b[0m\u001b[1;39m,\r\n",
      "  \u001b[0m\u001b[34;1m\"LastModified\"\u001b[0m\u001b[1;39m: \u001b[0m\u001b[0;32m\"2018-04-09T06:38:54+00:00\"\u001b[0m\u001b[1;39m,\r\n",
      "  \u001b[0m\u001b[34;1m\"ContentLength\"\u001b[0m\u001b[1;39m: \u001b[0m\u001b[0;39m290061737\u001b[0m\u001b[1;39m,\r\n",
      "  \u001b[0m\u001b[34;1m\"ETag\"\u001b[0m\u001b[1;39m: \u001b[0m\u001b[0;32m\"\\\"692a5d993b35c12befe6eef06079d150-35\\\"\"\u001b[0m\u001b[1;39m,\r\n",
      "  \u001b[0m\u001b[34;1m\"ContentType\"\u001b[0m\u001b[1;39m: \u001b[0m\u001b[0;32m\"binary/octet-stream\"\u001b[0m\u001b[1;39m,\r\n",
      "  \u001b[0m\u001b[34;1m\"Metadata\"\u001b[0m\u001b[1;39m: \u001b[0m\u001b[1;39m{}\u001b[0m\u001b[1;39m\r\n",
      "\u001b[1;39m}\u001b[0m\r\n"
     ]
    }
   ],
   "source": [
    "!aws s3api head-object --bucket amazon-reviews-pds --key parquet/product_category=Music/{some_file} | jq . "
   ]
  },
  {
   "cell_type": "markdown",
   "id": "casual-wagner",
   "metadata": {},
   "source": [
    "Create a new file named `write-operations2.json` and enter the following JSON: (replace `Uri`, `ETag`, and `Size` with the values you copied)"
   ]
  },
  {
   "cell_type": "code",
   "execution_count": 9,
   "id": "supreme-understanding",
   "metadata": {},
   "outputs": [
    {
     "name": "stdout",
     "output_type": "stream",
     "text": [
      "\u001b[1;39m[\r\n",
      "  \u001b[1;39m{\r\n",
      "    \u001b[0m\u001b[34;1m\"AddObject\"\u001b[0m\u001b[1;39m: \u001b[0m\u001b[1;39m{\r\n",
      "      \u001b[0m\u001b[34;1m\"Uri\"\u001b[0m\u001b[1;39m: \u001b[0m\u001b[0;32m\"s3://amazon-reviews-pds/parquet/product_category=Music/part-00001-495c48e6-96d6-4650-aa65-3c36a3516ddd.c000.snappy.parquet\"\u001b[0m\u001b[1;39m,\r\n",
      "      \u001b[0m\u001b[34;1m\"ETag\"\u001b[0m\u001b[1;39m: \u001b[0m\u001b[0;32m\"692a5d993b35c12befe6eef06079d150-35\"\u001b[0m\u001b[1;39m,\r\n",
      "      \u001b[0m\u001b[34;1m\"Size\"\u001b[0m\u001b[1;39m: \u001b[0m\u001b[0;39m290061737\u001b[0m\u001b[1;39m,\r\n",
      "      \u001b[0m\u001b[34;1m\"PartitionValues\"\u001b[0m\u001b[1;39m: \u001b[0m\u001b[1;39m[\r\n",
      "        \u001b[0;32m\"Music\"\u001b[0m\u001b[1;39m\r\n",
      "      \u001b[1;39m]\u001b[0m\u001b[1;39m\r\n",
      "    \u001b[1;39m}\u001b[0m\u001b[1;39m\r\n",
      "  \u001b[1;39m}\u001b[0m\u001b[1;39m\r\n",
      "\u001b[1;39m]\u001b[0m\r\n"
     ]
    }
   ],
   "source": [
    "!cat write-operations2.json | jq . "
   ]
  },
  {
   "cell_type": "markdown",
   "id": "adult-elevation",
   "metadata": {},
   "source": [
    "## Add file to the governed table using the `write-operations2.json`"
   ]
  },
  {
   "cell_type": "markdown",
   "id": "magnetic-cartridge",
   "metadata": {},
   "source": [
    "### a) `update-table-objects` API "
   ]
  },
  {
   "cell_type": "code",
   "execution_count": 40,
   "id": "sixth-digest",
   "metadata": {},
   "outputs": [],
   "source": [
    "!aws lakeformation-preview update-table-objects \\\n",
    "                        --database-name lakeformation_tutorial_amazon_reviews  \\\n",
    "                        --table-name amazon_reviews_governed --transaction-id {TransactionId} \\\n",
    "                        --write-operations file://./write-operations2.json --profile datalake-admin\n"
   ]
  },
  {
   "cell_type": "markdown",
   "id": "varying-moore",
   "metadata": {},
   "source": [
    "### b) `get-table-objects` API "
   ]
  },
  {
   "cell_type": "code",
   "execution_count": 41,
   "id": "executed-sport",
   "metadata": {},
   "outputs": [
    {
     "name": "stdout",
     "output_type": "stream",
     "text": [
      "{\r\n",
      "    \"Objects\": [\r\n",
      "        {\r\n",
      "            \"PartitionValues\": [\r\n",
      "                \"Books\"\r\n",
      "            ],\r\n",
      "            \"Objects\": [\r\n",
      "                {\r\n",
      "                    \"Uri\": \"s3://amazon-reviews-pds/parquet/product_category=Books/part-00000-495c48e6-96d6-4650-aa65-3c36a3516ddd.c000.snappy.parquet\",\r\n",
      "                    \"ETag\": \"9805c2c9a0459ccf337e01dc727f8efc-131\",\r\n",
      "                    \"Size\": 1094842361\r\n",
      "                }\r\n",
      "            ]\r\n",
      "        },\r\n",
      "        {\r\n",
      "            \"PartitionValues\": [\r\n",
      "                \"Camera\"\r\n",
      "            ],\r\n",
      "            \"Objects\": [\r\n",
      "                {\r\n",
      "                    \"Uri\": \"s3://amazon-reviews-pds/parquet/product_category=Camera/part-00000-495c48e6-96d6-4650-aa65-3c36a3516ddd.c000.snappy.parquet\",\r\n",
      "                    \"ETag\": \"d4c25c40f33071620fb31cf0346ed2ec-8\",\r\n",
      "                    \"Size\": 65386769\r\n",
      "                }\r\n",
      "            ]\r\n",
      "        },\r\n",
      "        {\r\n",
      "            \"PartitionValues\": [\r\n",
      "                \"Music\"\r\n",
      "            ],\r\n",
      "            \"Objects\": [\r\n",
      "                {\r\n",
      "                    \"Uri\": \"s3://amazon-reviews-pds/parquet/product_category=Music/part-00001-495c48e6-96d6-4650-aa65-3c36a3516ddd.c000.snappy.parquet\",\r\n",
      "                    \"ETag\": \"692a5d993b35c12befe6eef06079d150-35\",\r\n",
      "                    \"Size\": 290061737\r\n",
      "                }\r\n",
      "            ]\r\n",
      "        },\r\n",
      "        {\r\n",
      "            \"PartitionValues\": [\r\n",
      "                \"Toys\"\r\n",
      "            ],\r\n",
      "            \"Objects\": [\r\n",
      "                {\r\n",
      "                    \"Uri\": \"s3://amazon-reviews-pds/parquet/product_category=Toys/part-00001-495c48e6-96d6-4650-aa65-3c36a3516ddd.c000.snappy.parquet\",\r\n",
      "                    \"ETag\": \"5177d6a3e64ec024dd650c2f1ccc9a3f-16\",\r\n",
      "                    \"Size\": 126730698\r\n",
      "                }\r\n",
      "            ]\r\n",
      "        }\r\n",
      "    ]\r\n",
      "}\r\n"
     ]
    }
   ],
   "source": [
    "!aws lakeformation-preview get-table-objects \\\n",
    "                        --database-name lakeformation_tutorial_amazon_reviews  \\\n",
    "                        --table-name amazon_reviews_governed --transaction-id {TransactionId} --profile datalake-admin"
   ]
  },
  {
   "cell_type": "markdown",
   "id": "communist-things",
   "metadata": {},
   "source": [
    "## Commit the transaction"
   ]
  },
  {
   "cell_type": "code",
   "execution_count": 45,
   "id": "worthy-navigation",
   "metadata": {},
   "outputs": [],
   "source": [
    "!aws lakeformation-preview commit-transaction \\ \n",
    "                        --transaction-id {TransactionId} \n",
    "                        --profile datalake-admin"
   ]
  },
  {
   "cell_type": "markdown",
   "id": "original-festival",
   "metadata": {},
   "source": [
    "# Now we can do the following: "
   ]
  },
  {
   "cell_type": "markdown",
   "id": "fallen-traveler",
   "metadata": {},
   "source": [
    "- Login to UI(Lake Formation console) to check these two partitions \n",
    "- Querying the governed table using Amazon Athena"
   ]
  },
  {
   "cell_type": "code",
   "execution_count": null,
   "id": "external-emerald",
   "metadata": {
    "scrolled": false
   },
   "outputs": [],
   "source": []
  },
  {
   "cell_type": "code",
   "execution_count": null,
   "id": "beginning-canon",
   "metadata": {},
   "outputs": [],
   "source": []
  },
  {
   "cell_type": "code",
   "execution_count": null,
   "id": "valued-material",
   "metadata": {},
   "outputs": [],
   "source": []
  },
  {
   "cell_type": "code",
   "execution_count": null,
   "id": "corporate-parcel",
   "metadata": {},
   "outputs": [],
   "source": []
  },
  {
   "cell_type": "code",
   "execution_count": null,
   "id": "original-diving",
   "metadata": {},
   "outputs": [],
   "source": []
  },
  {
   "cell_type": "code",
   "execution_count": null,
   "id": "visible-letters",
   "metadata": {},
   "outputs": [],
   "source": []
  },
  {
   "cell_type": "code",
   "execution_count": null,
   "id": "seasonal-interview",
   "metadata": {},
   "outputs": [],
   "source": []
  },
  {
   "cell_type": "code",
   "execution_count": null,
   "id": "crude-string",
   "metadata": {},
   "outputs": [],
   "source": []
  },
  {
   "cell_type": "code",
   "execution_count": null,
   "id": "collaborative-fault",
   "metadata": {},
   "outputs": [],
   "source": []
  },
  {
   "cell_type": "code",
   "execution_count": null,
   "id": "directed-benefit",
   "metadata": {},
   "outputs": [],
   "source": []
  },
  {
   "cell_type": "code",
   "execution_count": null,
   "id": "rough-street",
   "metadata": {},
   "outputs": [],
   "source": []
  },
  {
   "cell_type": "code",
   "execution_count": null,
   "id": "compressed-supplement",
   "metadata": {},
   "outputs": [],
   "source": []
  },
  {
   "cell_type": "code",
   "execution_count": null,
   "id": "dynamic-single",
   "metadata": {},
   "outputs": [],
   "source": []
  },
  {
   "cell_type": "code",
   "execution_count": null,
   "id": "legitimate-clock",
   "metadata": {},
   "outputs": [],
   "source": []
  },
  {
   "cell_type": "code",
   "execution_count": null,
   "id": "lined-graphics",
   "metadata": {},
   "outputs": [],
   "source": [
    "!aws lakeformation-preview list-transactions --profile datalake-admin"
   ]
  },
  {
   "cell_type": "code",
   "execution_count": null,
   "id": "nonprofit-reggae",
   "metadata": {},
   "outputs": [],
   "source": []
  },
  {
   "cell_type": "code",
   "execution_count": null,
   "id": "elect-colony",
   "metadata": {},
   "outputs": [],
   "source": []
  },
  {
   "cell_type": "code",
   "execution_count": null,
   "id": "clean-cincinnati",
   "metadata": {},
   "outputs": [],
   "source": []
  }
 ],
 "metadata": {
  "kernelspec": {
   "display_name": "Python 3",
   "language": "python",
   "name": "python3"
  },
  "language_info": {
   "codemirror_mode": {
    "name": "ipython",
    "version": 3
   },
   "file_extension": ".py",
   "mimetype": "text/x-python",
   "name": "python",
   "nbconvert_exporter": "python",
   "pygments_lexer": "ipython3",
   "version": "3.8.3"
  },
  "toc": {
   "base_numbering": 1,
   "nav_menu": {},
   "number_sections": true,
   "sideBar": true,
   "skip_h1_title": false,
   "title_cell": "Table of Contents",
   "title_sidebar": "Contents",
   "toc_cell": false,
   "toc_position": {},
   "toc_section_display": true,
   "toc_window_display": true
  },
  "varInspector": {
   "cols": {
    "lenName": 16,
    "lenType": 16,
    "lenVar": 40
   },
   "kernels_config": {
    "python": {
     "delete_cmd_postfix": "",
     "delete_cmd_prefix": "del ",
     "library": "var_list.py",
     "varRefreshCmd": "print(var_dic_list())"
    },
    "r": {
     "delete_cmd_postfix": ") ",
     "delete_cmd_prefix": "rm(",
     "library": "var_list.r",
     "varRefreshCmd": "cat(var_dic_list()) "
    }
   },
   "types_to_exclude": [
    "module",
    "function",
    "builtin_function_or_method",
    "instance",
    "_Feature"
   ],
   "window_display": false
  }
 },
 "nbformat": 4,
 "nbformat_minor": 5
}
