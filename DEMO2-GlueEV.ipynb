{
 "cells": [
  {
   "cell_type": "markdown",
   "id": "empty-classics",
   "metadata": {},
   "source": [
    "# Glue Elastic Views Overview"
   ]
  },
  {
   "cell_type": "markdown",
   "id": "individual-swaziland",
   "metadata": {},
   "source": [
    "Using AWS Glue EV Console\n",
    "\n",
    "<img src=\"img/img2.png\">"
   ]
  },
  {
   "cell_type": "markdown",
   "id": "decreased-master",
   "metadata": {},
   "source": [
    "Replicating data across multiple AWS data stores using AWS Glue Elastic Views involves the following steps:"
   ]
  },
  {
   "cell_type": "markdown",
   "id": "amino-classic",
   "metadata": {},
   "source": [
    "<img src=\"img/img1.png\">"
   ]
  },
  {
   "cell_type": "markdown",
   "id": "terminal-affect",
   "metadata": {},
   "source": [
    "# Step 1: Create a `DynamoDB` table (`SOURCE`)"
   ]
  },
  {
   "cell_type": "code",
   "execution_count": null,
   "id": "periodic-concentration",
   "metadata": {},
   "outputs": [],
   "source": [
    "%%bash \n",
    "\n",
    "aws dynamodb create-table \\\n",
    "    --table-name favoritemovies \\\n",
    "    --attribute-definitions \\\n",
    "        AttributeName=title,AttributeType=S \\\n",
    "        AttributeName=release_year,AttributeType=N \\\n",
    "    --key-schema \\\n",
    "        AttributeName=title,KeyType=HASH \\\n",
    "        AttributeName=release_year,KeyType=RANGE \\\n",
    "    --provisioned-throughput \\\n",
    "            ReadCapacityUnits=10,WriteCapacityUnits=5 | jq . "
   ]
  },
  {
   "cell_type": "markdown",
   "id": "tired-country",
   "metadata": {},
   "source": [
    "### Use describe-table to verify that `DynamoDB` finished creating the `favoritemovies` table and to find the `ARN` of your table"
   ]
  },
  {
   "cell_type": "code",
   "execution_count": null,
   "id": "royal-movie",
   "metadata": {},
   "outputs": [],
   "source": [
    "!aws dynamodb describe-table --table-name favoritemovies | grep -e TableStatus -e TableArn\n"
   ]
  },
  {
   "cell_type": "code",
   "execution_count": null,
   "id": "natural-wagon",
   "metadata": {},
   "outputs": [],
   "source": [
    "dynamoDB_ARN = \"arn:aws:dynamodb:us-east-1:507922848584:table/favoritemovies\""
   ]
  },
  {
   "cell_type": "markdown",
   "id": "manual-brooklyn",
   "metadata": {},
   "source": [
    "### Put `items` in the Table: "
   ]
  },
  {
   "cell_type": "code",
   "execution_count": null,
   "id": "radio-tokyo",
   "metadata": {},
   "outputs": [],
   "source": [
    "%%bash\n",
    "\n",
    "# Item 1\n",
    "aws dynamodb put-item \\\n",
    "--table-name favoritemovies  \\\n",
    "--item \\\n",
    "    '{\"title\": {\"S\": \"Inception\"}, \"release_year\": {\"N\": \"2010\"}}'\n",
    "\n",
    "# Item 2\n",
    "aws dynamodb put-item \\\n",
    "    --table-name favoritemovies \\\n",
    "    --item \\\n",
    "    '{\"title\": {\"S\": \"Moonlight\"}, \"release_year\": {\"N\": \"2016\"}}'\n",
    "\n",
    "#Item 3\n",
    "aws dynamodb put-item \\\n",
    "    --table-name favoritemovies \\\n",
    "    --item \\\n",
    "    '{\"title\": {\"S\": \"The Dark Knight\"}, \"release_year\": {\"N\": \"2008\"}}'"
   ]
  },
  {
   "cell_type": "markdown",
   "id": "sound-director",
   "metadata": {},
   "source": [
    "### Run `scan` to check that the data is added to the table "
   ]
  },
  {
   "cell_type": "code",
   "execution_count": null,
   "id": "changing-pacific",
   "metadata": {},
   "outputs": [],
   "source": [
    "!aws dynamodb scan --table-name favoritemovies |jq . \n"
   ]
  },
  {
   "cell_type": "markdown",
   "id": "prerequisite-twins",
   "metadata": {},
   "source": [
    "<img src=\"img/img3.png\">"
   ]
  },
  {
   "cell_type": "markdown",
   "id": "homeless-approval",
   "metadata": {},
   "source": [
    "# Step 2: Create an Elastic View(Table and View)"
   ]
  },
  {
   "cell_type": "markdown",
   "id": "statutory-tissue",
   "metadata": {},
   "source": [
    "### Create an Elastic Views table"
   ]
  },
  {
   "cell_type": "code",
   "execution_count": null,
   "id": "superb-cuisine",
   "metadata": {},
   "outputs": [],
   "source": [
    "!aws elasticviews create-external-datastore \\\n",
    "    --external-datastore-identifier {dynamoDB_ARN} \\\n",
    "    --datastore-name evfavoritemovies --datastore-type DYNAMODB | jq . "
   ]
  },
  {
   "cell_type": "code",
   "execution_count": null,
   "id": "russian-variance",
   "metadata": {
    "scrolled": false
   },
   "outputs": [],
   "source": [
    "!aws elasticviews list-sources | jq \".sources[-1]\"  # Copy the sourceArn"
   ]
  },
  {
   "cell_type": "code",
   "execution_count": null,
   "id": "billion-warren",
   "metadata": {},
   "outputs": [],
   "source": [
    "sourceArn = \"arn:aws:elasticviews:us-east-1:507922848584:source/favoritemovies-EwCOLUylj0qLvPLYXjOCLm\""
   ]
  },
  {
   "cell_type": "markdown",
   "id": "verbal-output",
   "metadata": {},
   "source": [
    "### Activate the Elastic Views table"
   ]
  },
  {
   "cell_type": "code",
   "execution_count": null,
   "id": "congressional-moment",
   "metadata": {},
   "outputs": [],
   "source": [
    "!aws elasticviews start-source \\\n",
    "    --source-identifier {sourceArn} | jq . "
   ]
  },
  {
   "cell_type": "markdown",
   "id": "mechanical-carnival",
   "metadata": {},
   "source": [
    "### Check the status of the Elastic Views table"
   ]
  },
  {
   "cell_type": "code",
   "execution_count": null,
   "id": "hawaiian-generation",
   "metadata": {},
   "outputs": [],
   "source": [
    "!aws elasticviews describe-source \\\n",
    "    --source-identifier {sourceArn} | jq . "
   ]
  },
  {
   "cell_type": "markdown",
   "id": "corporate-education",
   "metadata": {},
   "source": [
    "<img src=\"img/img4.png\">"
   ]
  },
  {
   "cell_type": "markdown",
   "id": "built-senegal",
   "metadata": {},
   "source": [
    "### Create an Elastic Views view"
   ]
  },
  {
   "cell_type": "code",
   "execution_count": null,
   "id": "ultimate-traveler",
   "metadata": {},
   "outputs": [],
   "source": [
    "!aws elasticviews create-view \\\n",
    "        --view-definition 'SELECT CAST(release_year AS int4), title FROM evfavoritemovies.favoritemovies' \\\n",
    "        --provenances \"release_year\" \"title\" \\\n",
    "        --view-name favoritemovies-view | jq . "
   ]
  },
  {
   "cell_type": "code",
   "execution_count": null,
   "id": "bored-lunch",
   "metadata": {},
   "outputs": [],
   "source": [
    "viewArn = \"arn:aws:elasticviews:us-east-1:507922848584:view/favoritemovies-view-HbD9WOoulwc05EPojTJ9lm\""
   ]
  },
  {
   "cell_type": "markdown",
   "id": "devoted-method",
   "metadata": {},
   "source": [
    "### Activate the Elastic Views view"
   ]
  },
  {
   "cell_type": "code",
   "execution_count": null,
   "id": "sunrise-shirt",
   "metadata": {},
   "outputs": [],
   "source": [
    "!aws elasticviews start-view \\\n",
    "    --view-identifier {viewArn} | jq . "
   ]
  },
  {
   "cell_type": "markdown",
   "id": "painted-poverty",
   "metadata": {},
   "source": [
    "### Check the status of the Elastic Views view"
   ]
  },
  {
   "cell_type": "code",
   "execution_count": null,
   "id": "endless-marshall",
   "metadata": {},
   "outputs": [],
   "source": [
    "!aws elasticviews describe-view \\\n",
    "    --view-identifier {viewArn} | jq . "
   ]
  },
  {
   "cell_type": "markdown",
   "id": "fleet-flooring",
   "metadata": {},
   "source": [
    "<img src=\"img/img5.png\">"
   ]
  },
  {
   "cell_type": "markdown",
   "id": "optical-crisis",
   "metadata": {},
   "source": [
    "# Step 3: Create a `Redshift` cluster (`TARGET`)"
   ]
  },
  {
   "cell_type": "markdown",
   "id": "favorite-mixer",
   "metadata": {},
   "source": [
    "- We have already created a [Redshift Cluster](https://console.aws.amazon.com/redshiftv2/home?region=us-east-1#cluster-details?cluster=redshift-cluster-2) (Let's check via the UI console)"
   ]
  },
  {
   "cell_type": "markdown",
   "id": "relative-doctrine",
   "metadata": {},
   "source": [
    "# Step 4: Materialization in Amazon Redshift"
   ]
  },
  {
   "cell_type": "markdown",
   "id": "rocky-caribbean",
   "metadata": {},
   "source": [
    "Lets open back to `DataGrip` and connect to our `Redshift` cluster"
   ]
  },
  {
   "cell_type": "code",
   "execution_count": null,
   "id": "mexican-november",
   "metadata": {},
   "outputs": [],
   "source": [
    "print(viewArn) # We need this while we `CREATE MATERIALIZED VIEW`"
   ]
  },
  {
   "cell_type": "markdown",
   "id": "dangerous-shirt",
   "metadata": {},
   "source": [
    "<img src=\"img/img6.png\">"
   ]
  },
  {
   "cell_type": "markdown",
   "id": "atomic-limit",
   "metadata": {},
   "source": [
    "### Put some new `item` in the Table: "
   ]
  },
  {
   "cell_type": "code",
   "execution_count": null,
   "id": "comparable-preliminary",
   "metadata": {},
   "outputs": [],
   "source": [
    "!aws dynamodb put-item \\\n",
    "    --table-name favoritemovies  \\\n",
    "    --item \\\n",
    "        '{\"title\": {\"S\": \"DDLJ\"}, \"release_year\": {\"N\": \"1995\"}}'"
   ]
  },
  {
   "cell_type": "markdown",
   "id": "julian-andrews",
   "metadata": {},
   "source": [
    "### Run `scan` to check that the data is added to the table \n"
   ]
  },
  {
   "cell_type": "code",
   "execution_count": null,
   "id": "angry-biology",
   "metadata": {},
   "outputs": [],
   "source": [
    "!aws dynamodb scan --table-name favoritemovies |jq . \n"
   ]
  },
  {
   "cell_type": "markdown",
   "id": "floating-service",
   "metadata": {},
   "source": [
    "# Step 5: Query Amazon `Redshift`"
   ]
  },
  {
   "cell_type": "markdown",
   "id": "frozen-judge",
   "metadata": {},
   "source": [
    "- Lets go back to `DataGrip` and run some query"
   ]
  },
  {
   "cell_type": "markdown",
   "id": "composed-table",
   "metadata": {},
   "source": [
    "# Cleanup"
   ]
  },
  {
   "cell_type": "markdown",
   "id": "diverse-yield",
   "metadata": {},
   "source": [
    "- From `Redshift` Cluster \n",
    "\n",
    "    - DROP MATERIALIZED VIEW favoritemovies_mv;\n",
    "\n",
    "    - DROP SCHEMA ev_schema\n",
    "    \n",
    "\n",
    "- From `ElasticView` UI\n",
    "\n",
    "    - Deactivate View\n",
    "\n",
    "    - Delete View\n",
    "\n",
    "    - Deactivate Table(source)\n",
    "\n",
    "    - Delete Table(source)\n",
    "\n",
    "\n",
    "- From `DynamoDB` UI\n",
    "\n",
    "    - Delete the table"
   ]
  },
  {
   "cell_type": "code",
   "execution_count": null,
   "id": "waiting-highlight",
   "metadata": {},
   "outputs": [],
   "source": []
  }
 ],
 "metadata": {
  "kernelspec": {
   "display_name": "Python 3",
   "language": "python",
   "name": "python3"
  },
  "language_info": {
   "codemirror_mode": {
    "name": "ipython",
    "version": 3
   },
   "file_extension": ".py",
   "mimetype": "text/x-python",
   "name": "python",
   "nbconvert_exporter": "python",
   "pygments_lexer": "ipython3",
   "version": "3.8.3"
  },
  "varInspector": {
   "cols": {
    "lenName": 16,
    "lenType": 16,
    "lenVar": 40
   },
   "kernels_config": {
    "python": {
     "delete_cmd_postfix": "",
     "delete_cmd_prefix": "del ",
     "library": "var_list.py",
     "varRefreshCmd": "print(var_dic_list())"
    },
    "r": {
     "delete_cmd_postfix": ") ",
     "delete_cmd_prefix": "rm(",
     "library": "var_list.r",
     "varRefreshCmd": "cat(var_dic_list()) "
    }
   },
   "types_to_exclude": [
    "module",
    "function",
    "builtin_function_or_method",
    "instance",
    "_Feature"
   ],
   "window_display": false
  }
 },
 "nbformat": 4,
 "nbformat_minor": 5
}
